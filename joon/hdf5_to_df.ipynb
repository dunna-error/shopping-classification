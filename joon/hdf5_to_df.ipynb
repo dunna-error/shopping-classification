{
 "cells": [
  {
   "cell_type": "code",
   "execution_count": null,
   "metadata": {
    "collapsed": true
   },
   "outputs": [],
   "source": [
    "import h5py\n",
    "import pandas as pd"
   ]
  },
  {
   "cell_type": "code",
   "execution_count": null,
   "metadata": {},
   "outputs": [],
   "source": [
    "h5 = h5py.File('../../dataset/dev.chunk.01', 'r')"
   ]
  },
  {
   "cell_type": "code",
   "execution_count": null,
   "metadata": {},
   "outputs": [],
   "source": [
    "for x in h5['dev'].values():\n",
    "    print(x.name[5:])"
   ]
  },
  {
   "cell_type": "code",
   "execution_count": null,
   "metadata": {},
   "outputs": [],
   "source": [
    "any_dict = {}\n",
    "any_dict['bcateid'] = pd.Series(h5['dev']['bcateid'])\n",
    "any_dict['brand'] = pd.Series(h5['dev']['brand'])\n",
    "any_dict['dataset'] = pd.Series(h5['dev']['dataset'])\n",
    "any_dict['dcateid'] = pd.Series(h5['dev']['dcateid'])\n",
    "any_dict['ds'] = pd.Series(h5['dev']['ds'])\n",
    "any_dict['maker'] = pd.Series(h5['dev']['maker'])\n",
    "any_dict['model'] = pd.Series(h5['dev']['model'])\n",
    "any_dict['pid'] = pd.Series(h5['dev']['pid'])\n",
    "any_dict['price'] = pd.Series(h5['dev']['price'])\n",
    "any_dict['product'] = pd.Series(h5['dev']['product'])\n",
    "any_dict['scateid'] = pd.Series(h5['dev']['scateid'])\n",
    "any_dict['updttm'] = pd.Series(h5['dev']['updttm'])\n",
    "any_dict['mcateid'] = pd.Series(h5['dev']['mcateid'])"
   ]
  },
  {
   "cell_type": "code",
   "execution_count": null,
   "metadata": {},
   "outputs": [],
   "source": [
    "# 포함되지 않은 친구들\n",
    "# any_dict['dataset_'] = pd.Series(h5['dev']['dataset_'])\n",
    "# any_dict['img_feat'] = pd.Series(h5['dev']['img_feat'])"
   ]
  },
  {
   "cell_type": "code",
   "execution_count": null,
   "metadata": {},
   "outputs": [],
   "source": [
    "df = pd.DataFrame(any_dict)"
   ]
  },
  {
   "cell_type": "code",
   "execution_count": null,
   "metadata": {},
   "outputs": [],
   "source": [
    "df.loc[0, 'scateid']"
   ]
  },
  {
   "cell_type": "code",
   "execution_count": null,
   "metadata": {},
   "outputs": [],
   "source": [
    "# tuple 친구들\n",
    "# df['dataset']\n",
    "# df['ds']\n",
    "\n",
    "# int 친구들\n",
    "# df['bcateid']\n",
    "# df['dcateid']\n",
    "# df['scateid']\n",
    "# df['price']\n",
    "# df['mcateid']"
   ]
  },
  {
   "cell_type": "code",
   "execution_count": null,
   "metadata": {},
   "outputs": [],
   "source": [
    "df['brand'] = df['brand'].str.decode('utf-8')\n",
    "df['maker'] = df['maker'].str.decode('utf-8')\n",
    "df['model'] = df['model'].str.decode('utf-8')\n",
    "df['pid'] = df['pid'].str.decode('utf-8')\n",
    "df['product'] = df['product'].str.decode('utf-8')\n",
    "df['updttm'] = df['updttm'].str.decode('utf-8')"
   ]
  },
  {
   "cell_type": "code",
   "execution_count": null,
   "metadata": {},
   "outputs": [],
   "source": [
    "df.head()"
   ]
  }
 ],
 "metadata": {
  "kernelspec": {
   "display_name": "Python 2",
   "language": "python",
   "name": "python2"
  },
  "language_info": {
   "codemirror_mode": {
    "name": "ipython",
    "version": 2
   },
   "file_extension": ".py",
   "mimetype": "text/x-python",
   "name": "python",
   "nbconvert_exporter": "python",
   "pygments_lexer": "ipython2",
   "version": "2.7.6"
  }
 },
 "nbformat": 4,
 "nbformat_minor": 0
}
