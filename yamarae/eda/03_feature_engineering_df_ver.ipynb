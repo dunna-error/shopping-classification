{
 "cells": [
  {
   "cell_type": "code",
   "execution_count": 154,
   "metadata": {},
   "outputs": [],
   "source": [
    "%matplotlib inline\n",
    "\n",
    "import pickle\n",
    "import datetime\n",
    "import time\n",
    "\n",
    "import matplotlib.pyplot as plt\n",
    "import pandas as pd\n",
    "import numpy as np\n",
    "\n",
    "data_path = \"/workspace/dataset/\"\n",
    "train_file = \"train_sample.csv\"\n",
    "dev_file = \"dev_sample.csv\"\n",
    "test_file = \"test_sample.csv\""
   ]
  },
  {
   "cell_type": "code",
   "execution_count": 2,
   "metadata": {},
   "outputs": [],
   "source": [
    "train_df = pd.read_csv(data_path + train_file)"
   ]
  },
  {
   "cell_type": "code",
   "execution_count": 3,
   "metadata": {},
   "outputs": [
    {
     "data": {
      "text/plain": [
       "Index(['bcateid', 'brand', 'dcateid', 'maker', 'mcateid', 'model', 'pid',\n",
       "       'price', 'product', 'scateid', 'updttm'],\n",
       "      dtype='object')"
      ]
     },
     "execution_count": 3,
     "metadata": {},
     "output_type": "execute_result"
    }
   ],
   "source": [
    "train_df.columns"
   ]
  },
  {
   "cell_type": "markdown",
   "metadata": {},
   "source": [
    "## make tag dict"
   ]
  },
  {
   "cell_type": "code",
   "execution_count": 67,
   "metadata": {},
   "outputs": [],
   "source": [
    "exception_word_list = [\"참조\", \"없음\", \"표기\", \"별도\", \"상세\", \"자체\", \"불명\", \"미입력\", \"공개불가\"]\n",
    "exception_tag_list = [\"기타\", \"\", \".\"]\n",
    "\n",
    "def check_valid(keyword):\n",
    "    if keyword is np.nan:\n",
    "        return False\n",
    "    else:\n",
    "        if any(exception in keyword for exception in exception_word_list):\n",
    "            return False\n",
    "        elif keyword in exception_tag_list:\n",
    "            return False\n",
    "        else:\n",
    "            return True\n",
    "\n",
    "def get_trimed_tag(brand, maker):\n",
    "    brand_valid = check_valid(brand)\n",
    "    maker_valid = check_valid(maker)\n",
    "    if brand_valid:\n",
    "        return brand\n",
    "    else:\n",
    "        if maker_valid:\n",
    "            return maker\n",
    "    return \"\"\n",
    "\n",
    "train_df['tag'] = train_df.apply(lambda x: get_trimed_tag(x['brand'], x['maker']), axis=1)"
   ]
  },
  {
   "cell_type": "code",
   "execution_count": 68,
   "metadata": {},
   "outputs": [
    {
     "name": "stdout",
     "output_type": "stream",
     "text": [
      "15639\n",
      "(7308679, 12)\n"
     ]
    }
   ],
   "source": [
    "valid_tag_list = train_df['tag'].value_counts()[train_df['tag'].value_counts() > 30].index\n",
    "print(len(valid_tag_list)) # 가지고있는 아이템의 개수가 30개 이상인 브랜드의 개수\n",
    "print(train_df[train_df['tag'].isin(valid_tag_list)].shape) # 위의 브랜드를 포함하는 전체 데이터의 개수"
   ]
  },
  {
   "cell_type": "code",
   "execution_count": 69,
   "metadata": {},
   "outputs": [
    {
     "name": "stdout",
     "output_type": "stream",
     "text": [
      "(3857465, 12)\n"
     ]
    }
   ],
   "source": [
    "print(train_df[train_df['tag'] == \"\"].shape) # outlier에 해당하는 tag 개수"
   ]
  },
  {
   "cell_type": "code",
   "execution_count": 70,
   "metadata": {},
   "outputs": [
    {
     "name": "stdout",
     "output_type": "stream",
     "text": [
      "0.4244500614518973\n",
      "0.10156969707250979\n"
     ]
    }
   ],
   "source": [
    "# 30개 이상 아이템을 가지고 있는 브랜드이면서, outlier에 해당하는 브랜드를 제외한 브랜드를 가지고 있는 데이터\n",
    "print((7308567 - 3855743) / train_df.shape[0]) # 약 42% 정도가 '의미를 가질 확률이 높은' 브랜드 정보를 가지고 있음\n",
    "print((train_df.shape[0] - 7308567) / train_df.shape[0]) # 약 10% 정도가 30개 미만의 아이템을 가지고 있는 브랜드 정보를 가지고 있음"
   ]
  },
  {
   "cell_type": "code",
   "execution_count": 85,
   "metadata": {},
   "outputs": [],
   "source": [
    "train_df[train_df['tag'].isin(valid_tag_list)][['brand', 'maker', 'tag']].sample(100).head(50)"
   ]
  },
  {
   "cell_type": "code",
   "execution_count": 72,
   "metadata": {},
   "outputs": [],
   "source": [
    "valid_tag_dict = {}\n",
    "\n",
    "idx = 1\n",
    "for tag in valid_tag_list:\n",
    "    valid_tag_dict[tag] = idx\n",
    "    idx = idx + 1"
   ]
  },
  {
   "cell_type": "code",
   "execution_count": 75,
   "metadata": {},
   "outputs": [
    {
     "data": {
      "text/plain": [
       "15639"
      ]
     },
     "execution_count": 75,
     "metadata": {},
     "output_type": "execute_result"
    }
   ],
   "source": [
    "len(valid_tag_dict)\n",
    "# valid_tag_dict"
   ]
  },
  {
   "cell_type": "code",
   "execution_count": 78,
   "metadata": {},
   "outputs": [],
   "source": [
    "# save\n",
    "with open('valid_tag_dict.pickle', 'wb') as f:\n",
    "    pickle.dump(valid_tag_dict, f, pickle.HIGHEST_PROTOCOL)"
   ]
  },
  {
   "cell_type": "code",
   "execution_count": 80,
   "metadata": {},
   "outputs": [],
   "source": [
    "del train_df['brand']\n",
    "del train_df['maker']\n",
    "del train_df['tag']"
   ]
  },
  {
   "cell_type": "markdown",
   "metadata": {},
   "source": [
    "## make price dict"
   ]
  },
  {
   "cell_type": "code",
   "execution_count": 83,
   "metadata": {},
   "outputs": [],
   "source": [
    "pd.options.display.float_format = '{:.6f}'.format"
   ]
  },
  {
   "cell_type": "code",
   "execution_count": 84,
   "metadata": {},
   "outputs": [
    {
     "data": {
      "text/plain": [
       "count   2824493.000000\n",
       "mean      67166.235912\n",
       "std      114755.604384\n",
       "min           1.000000\n",
       "25%       12620.000000\n",
       "50%       27710.000000\n",
       "75%       67110.000000\n",
       "max      999990.000000\n",
       "Name: price, dtype: float64"
      ]
     },
     "execution_count": 84,
     "metadata": {},
     "output_type": "execute_result"
    }
   ],
   "source": [
    "train_df[(train_df['price']!=-1) & (train_df['price'] < 1000000)]['price'].describe()"
   ]
  },
  {
   "cell_type": "code",
   "execution_count": 117,
   "metadata": {},
   "outputs": [
    {
     "name": "stdout",
     "output_type": "stream",
     "text": [
      "quantile 1 15120.0\n",
      "quantile 2 56100.0\n"
     ]
    }
   ],
   "source": [
    "quantile_1 = train_df[train_df['price']!=-1]['price'].quantile(0.3)\n",
    "quantile_2 = train_df[train_df['price']!=-1]['price'].quantile(0.7)\n",
    "\n",
    "print(\"quantile 1\", str(train_df[train_df['price']!=-1]['price'].quantile(0.3)))\n",
    "print(\"quantile 2\", str(train_df[train_df['price']!=-1]['price'].quantile(0.7)))"
   ]
  },
  {
   "cell_type": "code",
   "execution_count": 118,
   "metadata": {},
   "outputs": [],
   "source": [
    "def get_price_level(price):\n",
    "    if price == -1:\n",
    "        return \"2\"\n",
    "    elif price == np.nan:\n",
    "        return \"2\"\n",
    "    else:\n",
    "        if price < quantile_1:\n",
    "            return \"1\"\n",
    "        elif price > quantile_2:\n",
    "            return \"3\"\n",
    "        else:\n",
    "            return \"2\"\n",
    "\n",
    "train_df['price_level'] = train_df['price'].apply(lambda x: get_price_level(x))"
   ]
  },
  {
   "cell_type": "code",
   "execution_count": 119,
   "metadata": {},
   "outputs": [
    {
     "data": {
      "text/plain": [
       "2    6416798\n",
       "3     859121\n",
       "1     858899\n",
       "Name: price_level, dtype: int64"
      ]
     },
     "execution_count": 119,
     "metadata": {},
     "output_type": "execute_result"
    }
   ],
   "source": [
    "train_df['price_level'].value_counts()"
   ]
  },
  {
   "cell_type": "code",
   "execution_count": 120,
   "metadata": {},
   "outputs": [
    {
     "name": "stdout",
     "output_type": "stream",
     "text": [
      "2 ratio : 0.7888065842407291\n",
      "3 ratio : 0.10561035292983814\n",
      "1 ratio : 0.1055830628294327\n"
     ]
    }
   ],
   "source": [
    "vc = train_df['price_level'].value_counts()\n",
    "val_sum = vc.sum()\n",
    "print(vc.index[0], \"ratio :\", str(vc.values[0] / val_sum))\n",
    "print(vc.index[1], \"ratio :\", str(vc.values[1] / val_sum))\n",
    "print(vc.index[2], \"ratio :\", str(vc.values[2] / val_sum))"
   ]
  },
  {
   "cell_type": "code",
   "execution_count": 122,
   "metadata": {},
   "outputs": [],
   "source": [
    "price_quantile_dict = {\"quantile_1\": quantile_1, \"quantile_2\": quantile_2}"
   ]
  },
  {
   "cell_type": "code",
   "execution_count": 123,
   "metadata": {},
   "outputs": [],
   "source": [
    "# save\n",
    "with open('price_quantile_dict.pickle', 'wb') as f:\n",
    "    pickle.dump(price_quantile_dict, f, pickle.HIGHEST_PROTOCOL)"
   ]
  },
  {
   "cell_type": "markdown",
   "metadata": {},
   "source": [
    "## make aging min-max scaler dict for each div(train, dev, test)"
   ]
  },
  {
   "cell_type": "code",
   "execution_count": 125,
   "metadata": {},
   "outputs": [],
   "source": [
    "del train_df['price_level']\n",
    "del train_df['price']"
   ]
  },
  {
   "cell_type": "code",
   "execution_count": 170,
   "metadata": {},
   "outputs": [],
   "source": [
    "time_aging_dict = {'train': {'min': 0,\n",
    "                             'max': 0, \n",
    "                             'stand_unix_time': 0},\n",
    "                   'dev': {'min': 0,\n",
    "                           'max': 0, \n",
    "                           'stand_unix_time': 0},\n",
    "                   'test': {'min': 0,\n",
    "                            'max': 0, \n",
    "                            'stand_unix_time': 0}}"
   ]
  },
  {
   "cell_type": "code",
   "execution_count": 171,
   "metadata": {},
   "outputs": [],
   "source": [
    "train_df['year_mon_day'] = train_df['updttm'].apply(lambda x: int(str(x[2:10])))\n",
    "train_recent_updttm_day = train_df['year_mon_day'].max()\n",
    "unix_time = time.mktime(datetime.datetime.strptime(str(train_recent_updttm_day), \"%Y%m%d\").timetuple())\n",
    "time_aging_dict['train']['stand_unix_time'] = unix_time + 86400"
   ]
  },
  {
   "cell_type": "code",
   "execution_count": 172,
   "metadata": {},
   "outputs": [],
   "source": [
    "dev_df = pd.read_csv(data_path + dev_file)\n",
    "dev_df['year_mon_day'] = dev_df['updttm'].apply(lambda x: int(str(x[2:10])))\n",
    "dev_recent_updttm_day = dev_df['year_mon_day'].max()\n",
    "unix_time = time.mktime(datetime.datetime.strptime(str(dev_recent_updttm_day), \"%Y%m%d\").timetuple())\n",
    "time_aging_dict['dev']['stand_unix_time'] = unix_time + 86400"
   ]
  },
  {
   "cell_type": "code",
   "execution_count": 173,
   "metadata": {},
   "outputs": [],
   "source": [
    "test_df = pd.read_csv(data_path + test_file)\n",
    "test_df['year_mon_day'] = test_df['updttm'].apply(lambda x: int(str(x[2:10])))\n",
    "test_recent_updttm_day = test_df['year_mon_day'].max()\n",
    "unix_time = time.mktime(datetime.datetime.strptime(str(test_recent_updttm_day), \"%Y%m%d\").timetuple())\n",
    "time_aging_dict['test']['stand_unix_time'] = unix_time + 86400"
   ]
  },
  {
   "cell_type": "code",
   "execution_count": 174,
   "metadata": {},
   "outputs": [
    {
     "data": {
      "text/plain": [
       "{'dev': {'max': 0, 'min': 0, 'stand_unix_time': 1540825200.0},\n",
       " 'test': {'max': 0, 'min': 0, 'stand_unix_time': 1540825200.0},\n",
       " 'train': {'max': 0, 'min': 0, 'stand_unix_time': 1525100400.0}}"
      ]
     },
     "execution_count": 174,
     "metadata": {},
     "output_type": "execute_result"
    }
   ],
   "source": [
    "time_aging_dict"
   ]
  },
  {
   "cell_type": "code",
   "execution_count": 187,
   "metadata": {},
   "outputs": [],
   "source": [
    "def get_unix_time_aging(stand_unix_time, time_str):\n",
    "    date_str = time_str[2:10]\n",
    "    unix_time = time.mktime(datetime.datetime.strptime(date_str, \"%Y%m%d\").timetuple())\n",
    "    return (stand_unix_time - unix_time)\n",
    "\n",
    "div_time_aging = time_aging_dict['train']['stand_unix_time']\n",
    "train_df['unix_time_aging'] = train_df['updttm'].apply(lambda x: get_unix_time_aging(div_time_aging, x))\n",
    "\n",
    "div_time_aging = time_aging_dict['dev']['stand_unix_time']\n",
    "dev_df['unix_time_aging'] = dev_df['updttm'].apply(lambda x: get_unix_time_aging(div_time_aging, x))\n",
    "\n",
    "div_time_aging = time_aging_dict['test']['stand_unix_time']\n",
    "test_df['unix_time_aging'] = test_df['updttm'].apply(lambda x: get_unix_time_aging(div_time_aging, x))"
   ]
  },
  {
   "cell_type": "code",
   "execution_count": 188,
   "metadata": {},
   "outputs": [
    {
     "name": "stdout",
     "output_type": "stream",
     "text": [
      "{'dev': {'stand_unix_time': 1540825200.0, 'min': 86400.0, 'max': 114825600.0}, 'test': {'stand_unix_time': 1540825200.0, 'min': 86400.0, 'max': 114998400.0}, 'train': {'stand_unix_time': 1525100400.0, 'min': 86400.0, 'max': 99100800.0}}\n"
     ]
    }
   ],
   "source": [
    "time_aging_dict['train']['min'] = train_df['unix_time_aging'].min()\n",
    "time_aging_dict['train']['max'] = train_df['unix_time_aging'].max()\n",
    "\n",
    "time_aging_dict['dev']['min'] = dev_df['unix_time_aging'].min()\n",
    "time_aging_dict['dev']['max'] = dev_df['unix_time_aging'].max()\n",
    "\n",
    "time_aging_dict['test']['min'] = test_df['unix_time_aging'].min()\n",
    "time_aging_dict['test']['max'] = test_df['unix_time_aging'].max()\n",
    "\n",
    "print(time_aging_dict)"
   ]
  },
  {
   "cell_type": "code",
   "execution_count": 193,
   "metadata": {},
   "outputs": [],
   "source": [
    "train_min = time_aging_dict['train']['min']\n",
    "train_max = time_aging_dict['train']['max']\n",
    "\n",
    "train_df['unix_time_norm'] = (train_df['unix_time_aging'] - train_min) / (train_max - train_min)"
   ]
  },
  {
   "cell_type": "code",
   "execution_count": 194,
   "metadata": {},
   "outputs": [],
   "source": [
    "# save\n",
    "with open('time_aging_dict.pickle', 'wb') as f:\n",
    "    pickle.dump(time_aging_dict, f, pickle.HIGHEST_PROTOCOL)"
   ]
  },
  {
   "cell_type": "markdown",
   "metadata": {},
   "source": [
    "## aging feature visualization"
   ]
  },
  {
   "cell_type": "markdown",
   "metadata": {},
   "source": [
    "#### train distribution"
   ]
  },
  {
   "cell_type": "code",
   "execution_count": 182,
   "metadata": {},
   "outputs": [
    {
     "data": {
      "text/plain": [
       "<matplotlib.axes._subplots.AxesSubplot at 0x7fb31cc3bd68>"
      ]
     },
     "execution_count": 182,
     "metadata": {},
     "output_type": "execute_result"
    },
    {
     "data": {
      "image/png": "[encoded data removed]",
      "text/plain": [
       "<Figure size 432x288 with 1 Axes>"
      ]
     },
     "metadata": {
      "needs_background": "light"
     },
     "output_type": "display_data"
    }
   ],
   "source": [
    "plt.axis('off')\n",
    "train_df.groupby('bcateid')['unix_time_norm'].mean().plot.bar()"
   ]
  },
  {
   "cell_type": "code",
   "execution_count": 183,
   "metadata": {},
   "outputs": [
    {
     "data": {
      "text/plain": [
       "<matplotlib.axes._subplots.AxesSubplot at 0x7fb32e6b5ef0>"
      ]
     },
     "execution_count": 183,
     "metadata": {},
     "output_type": "execute_result"
    },
    {
     "data": {
      "image/png": "[encoded data removed]",
      "text/plain": [
       "<Figure size 432x288 with 1 Axes>"
      ]
     },
     "metadata": {
      "needs_background": "light"
     },
     "output_type": "display_data"
    }
   ],
   "source": [
    "plt.axis('off')\n",
    "train_df.groupby('mcateid')['unix_time_norm'].mean().plot.bar()"
   ]
  },
  {
   "cell_type": "code",
   "execution_count": 184,
   "metadata": {},
   "outputs": [
    {
     "data": {
      "text/plain": [
       "<matplotlib.axes._subplots.AxesSubplot at 0x7fb32b81b0f0>"
      ]
     },
     "execution_count": 184,
     "metadata": {},
     "output_type": "execute_result"
    },
    {
     "data": {
      "image/png": "[encoded data removed]",
      "text/plain": [
       "<Figure size 432x288 with 1 Axes>"
      ]
     },
     "metadata": {
      "needs_background": "light"
     },
     "output_type": "display_data"
    }
   ],
   "source": [
    "plt.axis('off')\n",
    "train_df.groupby('scateid')['unix_time_norm'].mean().plot.bar()"
   ]
  },
  {
   "cell_type": "code",
   "execution_count": 185,
   "metadata": {},
   "outputs": [
    {
     "data": {
      "text/plain": [
       "<matplotlib.axes._subplots.AxesSubplot at 0x7fb216b41518>"
      ]
     },
     "execution_count": 185,
     "metadata": {},
     "output_type": "execute_result"
    },
    {
     "data": {
      "image/png": "[encoded data removed]",
      "text/plain": [
       "<Figure size 432x288 with 1 Axes>"
      ]
     },
     "metadata": {
      "needs_background": "light"
     },
     "output_type": "display_data"
    }
   ],
   "source": [
    "plt.axis('off')\n",
    "train_df.groupby('dcateid')['unix_time_norm'].mean().plot.bar()"
   ]
  }
 ],
 "metadata": {
  "kernelspec": {
   "display_name": "Python 3",
   "language": "python",
   "name": "python3"
  },
  "language_info": {
   "codemirror_mode": {
    "name": "ipython",
    "version": 3
   },
   "file_extension": ".py",
   "mimetype": "text/x-python",
   "name": "python",
   "nbconvert_exporter": "python",
   "pygments_lexer": "ipython3",
   "version": "3.5.2"
  }
 },
 "nbformat": 4,
 "nbformat_minor": 2
}
