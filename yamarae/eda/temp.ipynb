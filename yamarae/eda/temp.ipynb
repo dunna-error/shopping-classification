{
 "cells": [
  {
   "cell_type": "code",
   "execution_count": 1,
   "metadata": {},
   "outputs": [],
   "source": [
    "import h5py\n",
    "\n",
    "path = '../data/train/data.h5py'"
   ]
  },
  {
   "cell_type": "code",
   "execution_count": 2,
   "metadata": {},
   "outputs": [
    {
     "data": {
      "text/plain": [
       "['dev', 'train']"
      ]
     },
     "execution_count": 2,
     "metadata": {},
     "output_type": "execute_result"
    }
   ],
   "source": [
    "hdf5_data = h5py.File(path, 'r')\n",
    "a_group_key = list(hdf5_data.keys())\n",
    "a_group_key"
   ]
  },
  {
   "cell_type": "code",
   "execution_count": 3,
   "metadata": {},
   "outputs": [
    {
     "data": {
      "text/plain": [
       "['aging', 'b2v', 'img_feat', 'pid', 'price_lev', 'tag', 'y']"
      ]
     },
     "execution_count": 3,
     "metadata": {},
     "output_type": "execute_result"
    }
   ],
   "source": [
    "list(hdf5_data['train'].keys())"
   ]
  },
  {
   "cell_type": "code",
   "execution_count": 4,
   "metadata": {},
   "outputs": [
    {
     "name": "stdout",
     "output_type": "stream",
     "text": [
      "0.03228621\n",
      "[ 0.16803625  0.01089094 -0.16927046  0.03881412  0.23232915  0.09288245\n",
      "  0.01375257 -0.19623938 -0.12775795 -0.02809932  0.39528012 -0.1698857\n",
      " -0.16688354 -0.23523253 -0.08946232 -0.28542584  0.02014689 -0.15149663\n",
      "  0.26537284  0.03164014  0.12827942 -0.03206663 -0.34036526  0.13716283\n",
      "  0.105431    0.19988051  0.15617195 -0.2572644  -0.16568571 -0.279184\n",
      " -0.02924136  0.09150377 -0.19054179  0.249625   -0.24728763  0.27933216\n",
      "  0.33393976 -0.08646668 -0.08131811  0.12907867  0.05323661  0.23242517\n",
      " -0.49343735  0.00210832  0.29504186  0.49677578 -0.03066224  0.12298175\n",
      " -0.09591178  0.00727243  0.14713861 -0.23709533  0.17196156 -0.10234645\n",
      "  0.12900132 -0.04728572  0.02595643  0.05785054 -0.11923613  0.00872327\n",
      "  0.06711186 -0.06027145 -0.50030005 -0.20360768 -0.05540701  0.04635401\n",
      " -0.19208913  0.07435983 -0.03506575 -0.25216362 -0.3748328   0.1572714\n",
      " -0.07853958  0.22845544  0.15553892 -0.11677377 -0.0636617   0.2847253\n",
      " -0.16933915  0.11035791 -0.01236503 -0.3541982   0.26538137  0.00447485\n",
      " -0.15348317  0.23439479  0.14858553  0.27350688 -0.2640615   0.4173278\n",
      " -0.2565321   0.15507893  0.11720093  0.10141931 -0.08142541  0.2774842\n",
      "  0.1100696   0.35430712 -0.17939109 -0.05260955 -0.04211369 -0.00491063\n",
      " -0.09219544  0.00224271  0.24087639 -0.09857243 -0.04117652 -0.21718368\n",
      "  0.07938746 -0.00284127 -0.05377125  0.24291857 -0.02725815 -0.5536017\n",
      "  0.15204541  0.13730101 -0.0659777  -0.00227674  0.00055783  0.21611935\n",
      " -0.12785305 -0.12833045 -0.1134318  -0.01941288 -0.30179253 -0.1189182\n",
      " -0.2912096  -0.03733815  0.19738609 -0.14133269  0.00215051  0.32906383\n",
      " -0.03758308  0.07316347 -0.08397361 -0.08810631  0.104386   -0.02702716\n",
      " -0.05802841 -0.03973146 -0.1281947   0.00982643  0.07217356  0.04831189\n",
      "  0.23120351 -0.33384058 -0.01938045 -0.04604861  0.03378877 -0.15181631\n",
      " -0.0235255  -0.01400612 -0.3133688   0.10100581  0.07473567  0.13761471\n",
      " -0.11807341  0.16134326  0.11188158 -0.14618097 -0.19397998  0.07174623\n",
      " -0.05648657 -0.5099992  -0.22963612 -0.34148782  0.14917327  0.05986118\n",
      " -0.06906696  0.5364501   0.28173926  0.18171562 -0.1209053   0.02279142\n",
      " -0.07029934 -0.3200528   0.23420905 -0.04789513  0.26973048  0.11693718\n",
      " -0.00844838 -0.19662707 -0.3585461  -0.16127348  0.10315274 -0.08547887\n",
      "  0.01838329  0.22992155 -0.09243305 -0.14076313 -0.30992624 -0.04384334\n",
      " -0.08339999  0.19950862  0.19072126  0.27386802 -0.17381865  0.12761374\n",
      " -0.01036862 -0.00459148]\n",
      "[0.11281574 0.685379   0.06017371 ... 0.         0.8809677  1.0654018 ]\n",
      "b'V4022444613'\n",
      "3\n",
      "1\n",
      "3027\n"
     ]
    }
   ],
   "source": [
    "for key in list(hdf5_data['dev'].keys()):\n",
    "    print(hdf5_data['dev'][key][15])"
   ]
  },
  {
   "cell_type": "code",
   "execution_count": 48,
   "metadata": {},
   "outputs": [
    {
     "name": "stdout",
     "output_type": "stream",
     "text": [
      "(2, 3)\n",
      "(2, 1)\n",
      "[[2 3 1]\n",
      " [1 6 8]]\n",
      "[[4]\n",
      " [5]]\n"
     ]
    },
    {
     "data": {
      "text/plain": [
       "array([[2, 3, 1, 4],\n",
       "       [1, 6, 8, 5]])"
      ]
     },
     "execution_count": 48,
     "metadata": {},
     "output_type": "execute_result"
    }
   ],
   "source": [
    "import numpy as np\n",
    "\n",
    "a = np.array([[2,3,1], [1,6,8]])\n",
    "b = np.array([4,5])\n",
    "b = np.reshape(b, (b.shape[0], 1))\n",
    "print(a.shape)\n",
    "print(b.shape)\n",
    "print(a)\n",
    "print(b)\n",
    "\n",
    "np.hstack((a, b))"
   ]
  },
  {
   "cell_type": "code",
   "execution_count": 71,
   "metadata": {},
   "outputs": [],
   "source": [
    "b\n",
    "encoded = np.zeros((b.shape[0], 5), )"
   ]
  },
  {
   "cell_type": "code",
   "execution_count": 72,
   "metadata": {},
   "outputs": [
    {
     "data": {
      "text/plain": [
       "array([[0., 0., 0., 0., 0.],\n",
       "       [0., 0., 0., 0., 0.]])"
      ]
     },
     "execution_count": 72,
     "metadata": {},
     "output_type": "execute_result"
    }
   ],
   "source": [
    "encoded"
   ]
  },
  {
   "cell_type": "code",
   "execution_count": 73,
   "metadata": {
    "scrolled": true
   },
   "outputs": [],
   "source": [
    "for i in range(0,2):\n",
    "    encoded[i][b[i]-1] = 1"
   ]
  },
  {
   "cell_type": "code",
   "execution_count": 74,
   "metadata": {},
   "outputs": [
    {
     "data": {
      "text/plain": [
       "array([[0., 0., 0., 1., 0.],\n",
       "       [0., 0., 0., 0., 1.]])"
      ]
     },
     "execution_count": 74,
     "metadata": {},
     "output_type": "execute_result"
    }
   ],
   "source": [
    "encoded"
   ]
  },
  {
   "cell_type": "code",
   "execution_count": null,
   "metadata": {},
   "outputs": [],
   "source": []
  }
 ],
 "metadata": {
  "kernelspec": {
   "display_name": "Python 3",
   "language": "python",
   "name": "python3"
  },
  "language_info": {
   "codemirror_mode": {
    "name": "ipython",
    "version": 3
   },
   "file_extension": ".py",
   "mimetype": "text/x-python",
   "name": "python",
   "nbconvert_exporter": "python",
   "pygments_lexer": "ipython3",
   "version": "3.6.7"
  }
 },
 "nbformat": 4,
 "nbformat_minor": 2
}
