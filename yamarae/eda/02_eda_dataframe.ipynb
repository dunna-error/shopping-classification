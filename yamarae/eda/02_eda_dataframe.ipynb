{
 "cells": [
  {
   "cell_type": "markdown",
   "metadata": {},
   "source": [
    "## Step 2. EDA train chunks"
   ]
  },
  {
   "cell_type": "markdown",
   "metadata": {},
   "source": [
    "-----\n",
    "### read DF"
   ]
  },
  {
   "cell_type": "code",
   "execution_count": 2,
   "metadata": {},
   "outputs": [],
   "source": [
    "%matplotlib inline\n",
    "\n",
    "import matplotlib.pyplot as plt\n",
    "import pandas as pd\n",
    "import numpy as np\n",
    "\n",
    "data_path = \"/workspace/dataset/\""
   ]
  },
  {
   "cell_type": "code",
   "execution_count": 3,
   "metadata": {},
   "outputs": [
    {
     "name": "stdout",
     "output_type": "stream",
     "text": [
      "(8134818, 11)\n"
     ]
    },
    {
     "data": {
      "text/html": [
       "<div>\n",
       "<style scoped>\n",
       "    .dataframe tbody tr th:only-of-type {\n",
       "        vertical-align: middle;\n",
       "    }\n",
       "\n",
       "    .dataframe tbody tr th {\n",
       "        vertical-align: top;\n",
       "    }\n",
       "\n",
       "    .dataframe thead th {\n",
       "        text-align: right;\n",
       "    }\n",
       "</style>\n",
       "<table border=\"1\" class=\"dataframe\">\n",
       "  <thead>\n",
       "    <tr style=\"text-align: right;\">\n",
       "      <th></th>\n",
       "      <th>bcateid</th>\n",
       "      <th>brand</th>\n",
       "      <th>dcateid</th>\n",
       "      <th>maker</th>\n",
       "      <th>mcateid</th>\n",
       "      <th>model</th>\n",
       "      <th>pid</th>\n",
       "      <th>price</th>\n",
       "      <th>product</th>\n",
       "      <th>scateid</th>\n",
       "      <th>updttm</th>\n",
       "    </tr>\n",
       "  </thead>\n",
       "  <tbody>\n",
       "    <tr>\n",
       "      <th>0</th>\n",
       "      <td>1</td>\n",
       "      <td>퍼즐라이프</td>\n",
       "      <td>-1</td>\n",
       "      <td>상품상세설명 참조</td>\n",
       "      <td>1</td>\n",
       "      <td>퍼즐라이프 직소퍼즐 바다거북의 여행</td>\n",
       "      <td>b'O4486751463'</td>\n",
       "      <td>16520</td>\n",
       "      <td>직소퍼즐 - 1000조각 바다거북의 여행 (PL1275)</td>\n",
       "      <td>2</td>\n",
       "      <td>b'20180227091029'</td>\n",
       "    </tr>\n",
       "    <tr>\n",
       "      <th>1</th>\n",
       "      <td>3</td>\n",
       "      <td>바보사랑</td>\n",
       "      <td>-1</td>\n",
       "      <td>MORY|해당없음</td>\n",
       "      <td>3</td>\n",
       "      <td>아이폰6S/6S+ tree farm101 - 다이어리케이스|아이폰6S/6S+</td>\n",
       "      <td>b'P3307178849'</td>\n",
       "      <td>20370</td>\n",
       "      <td>[모리케이스]아이폰6S/6S+ tree farm101 - 다이어리케이스[바보사랑][...</td>\n",
       "      <td>4</td>\n",
       "      <td>b'20180429085019'</td>\n",
       "    </tr>\n",
       "    <tr>\n",
       "      <th>2</th>\n",
       "      <td>5</td>\n",
       "      <td>크리비아</td>\n",
       "      <td>-1</td>\n",
       "      <td>NaN</td>\n",
       "      <td>5</td>\n",
       "      <td>크리비아 기모 3부 속바지 GLG4314P</td>\n",
       "      <td>b'R4424255515'</td>\n",
       "      <td>-1</td>\n",
       "      <td>크리비아 기모 3부 속바지 GLG4314P</td>\n",
       "      <td>6</td>\n",
       "      <td>b'20180426102314'</td>\n",
       "    </tr>\n",
       "    <tr>\n",
       "      <th>3</th>\n",
       "      <td>7</td>\n",
       "      <td>잭앤질</td>\n",
       "      <td>-1</td>\n",
       "      <td>㈜크리스패션</td>\n",
       "      <td>7</td>\n",
       "      <td>[잭앤질] 남성 솔리드 절개라인 포인트 포켓 팬츠 31133PT002_NA</td>\n",
       "      <td>b'F3334315393'</td>\n",
       "      <td>16280</td>\n",
       "      <td>[하프클럽/잭앤질]남성 솔리드 절개라인 포인트 포켓 팬츠 31133PT002_NA</td>\n",
       "      <td>8</td>\n",
       "      <td>b'20180422084512'</td>\n",
       "    </tr>\n",
       "    <tr>\n",
       "      <th>4</th>\n",
       "      <td>10</td>\n",
       "      <td>NaN</td>\n",
       "      <td>-1</td>\n",
       "      <td>기타</td>\n",
       "      <td>9</td>\n",
       "      <td>SD코드프리혈당시험지[50매]</td>\n",
       "      <td>b'N731678492'</td>\n",
       "      <td>-1</td>\n",
       "      <td>코드프리혈당시험지50매/코드프리시험지/최장유효기간</td>\n",
       "      <td>11</td>\n",
       "      <td>b'20180424071623'</td>\n",
       "    </tr>\n",
       "  </tbody>\n",
       "</table>\n",
       "</div>"
      ],
      "text/plain": [
       "   bcateid  brand  dcateid      maker  mcateid  \\\n",
       "0        1  퍼즐라이프       -1  상품상세설명 참조        1   \n",
       "1        3   바보사랑       -1  MORY|해당없음        3   \n",
       "2        5   크리비아       -1        NaN        5   \n",
       "3        7    잭앤질       -1     ㈜크리스패션        7   \n",
       "4       10    NaN       -1         기타        9   \n",
       "\n",
       "                                        model             pid  price  \\\n",
       "0                         퍼즐라이프 직소퍼즐 바다거북의 여행  b'O4486751463'  16520   \n",
       "1  아이폰6S/6S+ tree farm101 - 다이어리케이스|아이폰6S/6S+  b'P3307178849'  20370   \n",
       "2                     크리비아 기모 3부 속바지 GLG4314P  b'R4424255515'     -1   \n",
       "3   [잭앤질] 남성 솔리드 절개라인 포인트 포켓 팬츠 31133PT002_NA  b'F3334315393'  16280   \n",
       "4                            SD코드프리혈당시험지[50매]   b'N731678492'     -1   \n",
       "\n",
       "                                             product  scateid  \\\n",
       "0                    직소퍼즐 - 1000조각 바다거북의 여행 (PL1275)        2   \n",
       "1  [모리케이스]아이폰6S/6S+ tree farm101 - 다이어리케이스[바보사랑][...        4   \n",
       "2                            크리비아 기모 3부 속바지 GLG4314P        6   \n",
       "3      [하프클럽/잭앤질]남성 솔리드 절개라인 포인트 포켓 팬츠 31133PT002_NA        8   \n",
       "4                        코드프리혈당시험지50매/코드프리시험지/최장유효기간       11   \n",
       "\n",
       "              updttm  \n",
       "0  b'20180227091029'  \n",
       "1  b'20180429085019'  \n",
       "2  b'20180426102314'  \n",
       "3  b'20180422084512'  \n",
       "4  b'20180424071623'  "
      ]
     },
     "execution_count": 3,
     "metadata": {},
     "output_type": "execute_result"
    }
   ],
   "source": [
    "df = pd.read_csv(data_path + \"train_sample.csv\")\n",
    "print(df.shape)\n",
    "df.head()"
   ]
  },
  {
   "cell_type": "code",
   "execution_count": 4,
   "metadata": {},
   "outputs": [
    {
     "data": {
      "text/plain": [
       "Index(['bcateid', 'brand', 'dcateid', 'maker', 'mcateid', 'model', 'pid',\n",
       "       'price', 'product', 'scateid', 'updttm'],\n",
       "      dtype='object')"
      ]
     },
     "execution_count": 4,
     "metadata": {},
     "output_type": "execute_result"
    }
   ],
   "source": [
    "df.columns"
   ]
  },
  {
   "cell_type": "markdown",
   "metadata": {},
   "source": [
    "### show y(cate) distribution"
   ]
  },
  {
   "cell_type": "code",
   "execution_count": 4,
   "metadata": {},
   "outputs": [],
   "source": [
    "def show_dist_col(df, col_name, remove_empty=True):\n",
    "    ax = 0\n",
    "    if remove_empty:\n",
    "        ax = df[col_name].value_counts()[1:]\n",
    "    else:\n",
    "        ax = df[col_name].value_counts()\n",
    "    print(\"unique length :\", str(len(ax)))\n",
    "\n",
    "    plt.bar(np.arange(len(ax.index)), ax.values)\n",
    "    frame1 = plt.gca()\n",
    "    frame1.axes.get_xaxis().set_visible(False)"
   ]
  },
  {
   "cell_type": "code",
   "execution_count": 47,
   "metadata": {},
   "outputs": [
    {
     "name": "stdout",
     "output_type": "stream",
     "text": [
      "unique length : 57\n"
     ]
    },
    {
     "data": {
      "image/png": "[encoded data removed]",
      "text/plain": [
       "<Figure size 432x288 with 1 Axes>"
      ]
     },
     "metadata": {
      "needs_background": "light"
     },
     "output_type": "display_data"
    }
   ],
   "source": [
    "show_dist_col(df, \"bcateid\", remove_empty=False)"
   ]
  },
  {
   "cell_type": "code",
   "execution_count": 48,
   "metadata": {},
   "outputs": [
    {
     "name": "stdout",
     "output_type": "stream",
     "text": [
      "unique length : 552\n"
     ]
    },
    {
     "data": {
      "image/png": "[encoded data removed]",
      "text/plain": [
       "<Figure size 432x288 with 1 Axes>"
      ]
     },
     "metadata": {
      "needs_background": "light"
     },
     "output_type": "display_data"
    }
   ],
   "source": [
    "show_dist_col(df, \"mcateid\", remove_empty=False)"
   ]
  },
  {
   "cell_type": "code",
   "execution_count": 49,
   "metadata": {},
   "outputs": [
    {
     "name": "stdout",
     "output_type": "stream",
     "text": [
      "unique length : 3189\n"
     ]
    },
    {
     "data": {
      "image/png": "[encoded data removed]",
      "text/plain": [
       "<Figure size 432x288 with 1 Axes>"
      ]
     },
     "metadata": {
      "needs_background": "light"
     },
     "output_type": "display_data"
    }
   ],
   "source": [
    "show_dist_col(df, \"scateid\", remove_empty=True)"
   ]
  },
  {
   "cell_type": "code",
   "execution_count": 50,
   "metadata": {},
   "outputs": [
    {
     "name": "stdout",
     "output_type": "stream",
     "text": [
      "unique length : 403\n"
     ]
    },
    {
     "data": {
      "image/png": "[encoded data removed]",
      "text/plain": [
       "<Figure size 432x288 with 1 Axes>"
      ]
     },
     "metadata": {
      "needs_background": "light"
     },
     "output_type": "display_data"
    }
   ],
   "source": [
    "show_dist_col(df, \"dcateid\", remove_empty=True)"
   ]
  },
  {
   "cell_type": "markdown",
   "metadata": {},
   "source": [
    "### small, detail cate empty check"
   ]
  },
  {
   "cell_type": "code",
   "execution_count": 35,
   "metadata": {},
   "outputs": [
    {
     "name": "stdout",
     "output_type": "stream",
     "text": [
      "small cate's empty ratio : 0.23\n"
     ]
    }
   ],
   "source": [
    "s_empty_ratio = df.scateid.value_counts().tolist()[0] / sum(df.scateid.value_counts())\n",
    "print(\"small cate's empty ratio :\", str(round(s_empty_ratio, 2)))"
   ]
  },
  {
   "cell_type": "code",
   "execution_count": 36,
   "metadata": {},
   "outputs": [
    {
     "name": "stdout",
     "output_type": "stream",
     "text": [
      "detail cate's empty ratio : 0.91\n"
     ]
    }
   ],
   "source": [
    "d_empty_ratio = df.dcateid.value_counts().tolist()[0] / sum(df.dcateid.value_counts())\n",
    "print(\"detail cate's empty ratio :\", str(round(d_empty_ratio, 2)))"
   ]
  },
  {
   "cell_type": "markdown",
   "metadata": {},
   "source": [
    "### make cid (comb all cate)"
   ]
  },
  {
   "cell_type": "code",
   "execution_count": 59,
   "metadata": {},
   "outputs": [],
   "source": [
    "def concat_cate(b, m, s, d):\n",
    "    cid = [str(b), str(m), str(s), str(d)]\n",
    "    return(\"_\".join(cid))"
   ]
  },
  {
   "cell_type": "code",
   "execution_count": 60,
   "metadata": {},
   "outputs": [],
   "source": [
    "df['cid'] = df.apply(lambda x: concat_cate(x['bcateid'], x['mcateid'], x['scateid'], x['dcateid']), axis=1)"
   ]
  },
  {
   "cell_type": "code",
   "execution_count": 64,
   "metadata": {},
   "outputs": [
    {
     "data": {
      "text/plain": [
       "24_31_34_5       72344\n",
       "50_201_-1_-1     66904\n",
       "6_14_149_-1      66451\n",
       "3_3_38_10        60313\n",
       "3_3_38_-1        55871\n",
       "20_132_195_-1    53778\n",
       "3_3_38_8         53278\n",
       "3_3_38_6         50747\n",
       "3_3_375_-1       47568\n",
       "17_20_53_-1      47516\n",
       "Name: cid, dtype: int64"
      ]
     },
     "execution_count": 64,
     "metadata": {},
     "output_type": "execute_result"
    }
   ],
   "source": [
    "df['cid'].value_counts()[:10]"
   ]
  },
  {
   "cell_type": "code",
   "execution_count": 62,
   "metadata": {},
   "outputs": [
    {
     "data": {
      "text/plain": [
       "4215"
      ]
     },
     "execution_count": 62,
     "metadata": {},
     "output_type": "execute_result"
    }
   ],
   "source": [
    "len(df['cid'].value_counts())"
   ]
  },
  {
   "cell_type": "code",
   "execution_count": 63,
   "metadata": {},
   "outputs": [
    {
     "name": "stdout",
     "output_type": "stream",
     "text": [
      "unique length : 4215\n"
     ]
    },
    {
     "data": {
      "image/png": "[encoded data removed]",
      "text/plain": [
       "<Figure size 432x288 with 1 Axes>"
      ]
     },
     "metadata": {
      "needs_background": "light"
     },
     "output_type": "display_data"
    }
   ],
   "source": [
    "show_dist_col(df, \"cid\", remove_empty=False)"
   ]
  },
  {
   "cell_type": "markdown",
   "metadata": {},
   "source": [
    "# Question :  RNN 방식으로 4개의 cell을 예측하면 57, 552, 3190, 404 개의 one-hot을 예측하는 것?\n",
    "- 만약 그렇다면 조합의 개수 4215개로 하는게 낫지 않나??\n",
    "- 조합을 한다는 것은 나름의 ruleset을 가지고 structure 구조가 된다는 것인데, 구조가 없는 57 X 552 X 3190 X 404 보다 낫지 않을까??"
   ]
  },
  {
   "cell_type": "markdown",
   "metadata": {},
   "source": [
    "- cate 조합을 y로 쓰는 것(4215)의 문제점 : 새로운 조합에 대해서는 예측이 불가능?\n",
    "- cate 조합을 y로 쓰는 것(4215)의 장점 : 이미 어느정도 만들어놓은 association ruleset과 비슷한 효과를 가질 듯?\n",
    "- RNN 연속성 예측의 문제점 : 학습 연산량이 지나치게 많을 듯?\n",
    "- RNN 연속성 예측의 장점 : 학습만 제대로 된다면 새로운 조합에 대해서 예측이 가능, 그리고 아마도 더 정확할 듯?\n",
    "###### RNN 연속성 예측 질문 : cell마다 다른 one-hot size의 output으로 나가는게 가능한가?"
   ]
  },
  {
   "cell_type": "markdown",
   "metadata": {},
   "source": [
    "- 의견 1 : 아마 Test 데이터 셋에서 새로운 카테고리 조합이 많이 나올 것 같지는 않음.\n",
    "- 의견 2 : 아마 RNN이 더 정확할 것 같음.\n",
    "- 그러니 두 방법 모두 다 테스트 해서 성능을 비교해봐야 할 듯."
   ]
  },
  {
   "cell_type": "markdown",
   "metadata": {},
   "source": [
    "-----\n",
    "-----\n",
    "### EDA x-features"
   ]
  },
  {
   "cell_type": "markdown",
   "metadata": {},
   "source": [
    "#### check train pid in dev\n",
    "- insight : dev의 pid는 train에서 한번도 등장하지 않았던 item"
   ]
  },
  {
   "cell_type": "code",
   "execution_count": 6,
   "metadata": {},
   "outputs": [
    {
     "data": {
      "text/plain": [
       "b'N4494825834'    1\n",
       "b'M1436321812'    1\n",
       "b'S4569373738'    1\n",
       "b'I4435633408'    1\n",
       "b'Q1436470624'    1\n",
       "b'P3903145886'    1\n",
       "b'K4621158488'    1\n",
       "b'T4636452079'    1\n",
       "b'L3054860426'    1\n",
       "b'X3885512402'    1\n",
       "Name: pid, dtype: int64"
      ]
     },
     "execution_count": 6,
     "metadata": {},
     "output_type": "execute_result"
    }
   ],
   "source": [
    "df.pid.value_counts()[:10]"
   ]
  },
  {
   "cell_type": "code",
   "execution_count": 4,
   "metadata": {},
   "outputs": [],
   "source": [
    "dev_df = pd.read_csv(data_path + \"dev_sample.csv\")"
   ]
  },
  {
   "cell_type": "code",
   "execution_count": 14,
   "metadata": {},
   "outputs": [
    {
     "data": {
      "text/plain": [
       "b'N4494825834'    1\n",
       "b'M1436321812'    1\n",
       "b'S4569373738'    1\n",
       "b'I4435633408'    1\n",
       "b'Q1436470624'    1\n",
       "b'P3903145886'    1\n",
       "b'K4621158488'    1\n",
       "b'T4636452079'    1\n",
       "b'L3054860426'    1\n",
       "b'X3885512402'    1\n",
       "Name: pid, dtype: int64"
      ]
     },
     "execution_count": 14,
     "metadata": {},
     "output_type": "execute_result"
    }
   ],
   "source": [
    "df.pid.value_counts()[:10]"
   ]
  },
  {
   "cell_type": "code",
   "execution_count": 8,
   "metadata": {},
   "outputs": [],
   "source": [
    "train_pid_dict = dict(df.pid.value_counts())"
   ]
  },
  {
   "cell_type": "code",
   "execution_count": 24,
   "metadata": {},
   "outputs": [],
   "source": [
    "def check_pid_dict(pid):\n",
    "    if pid in train_pid_dict:\n",
    "        return 1\n",
    "    else:\n",
    "        return 0\n",
    "\n",
    "dev_df['used_pid'] = dev_df.pid.apply(lambda x: check_pid_dict(x))"
   ]
  },
  {
   "cell_type": "code",
   "execution_count": 25,
   "metadata": {},
   "outputs": [
    {
     "data": {
      "text/plain": [
       "0    507783\n",
       "Name: used_pid, dtype: int64"
      ]
     },
     "execution_count": 25,
     "metadata": {},
     "output_type": "execute_result"
    }
   ],
   "source": [
    "dev_df['used_pid'].value_counts() ## --> dev의 pid는 train에서 한번도 등장하지 않았던 item"
   ]
  },
  {
   "cell_type": "markdown",
   "metadata": {},
   "source": [
    "-----\n",
    "-----\n",
    "#### brand eda\n",
    "- insight : 약 4%정도가 브랜드 쓰레기값 포함\n",
    "- 약 50%정도가 브랜드 결측"
   ]
  },
  {
   "cell_type": "code",
   "execution_count": 5,
   "metadata": {},
   "outputs": [
    {
     "data": {
      "text/plain": [
       "193459"
      ]
     },
     "execution_count": 5,
     "metadata": {},
     "output_type": "execute_result"
    }
   ],
   "source": [
    "len(df.brand.value_counts()) ## --> 브랜드 종류 약 19만개"
   ]
  },
  {
   "cell_type": "code",
   "execution_count": 5,
   "metadata": {},
   "outputs": [],
   "source": [
    "brand_list = df.brand.value_counts().index.tolist()"
   ]
  },
  {
   "cell_type": "code",
   "execution_count": 6,
   "metadata": {},
   "outputs": [],
   "source": [
    "exception_dict = [\"참조\", \"없음\", \"표기\", \"별도\", \"상세\", \"자체\"]\n",
    "exception_list = []"
   ]
  },
  {
   "cell_type": "code",
   "execution_count": 7,
   "metadata": {},
   "outputs": [],
   "source": [
    "for brand in brand_list:\n",
    "    if any(word in brand for word in exception_dict):\n",
    "        exception_list.append(brand)"
   ]
  },
  {
   "cell_type": "code",
   "execution_count": 9,
   "metadata": {},
   "outputs": [
    {
     "data": {
      "text/plain": [
       "0.04116588717780779"
      ]
     },
     "execution_count": 9,
     "metadata": {},
     "output_type": "execute_result"
    }
   ],
   "source": [
    "df[df['brand'].isin(exception_list)]['brand'].shape[0] / df.shape[0] ## --> 약 4%정도가 브랜드 쓰레기값 포함"
   ]
  },
  {
   "cell_type": "code",
   "execution_count": 10,
   "metadata": {},
   "outputs": [
    {
     "data": {
      "text/plain": [
       "0.48312340853845775"
      ]
     },
     "execution_count": 10,
     "metadata": {},
     "output_type": "execute_result"
    }
   ],
   "source": [
    "df.brand.isnull().sum() / df.shape[0] ## --> 약 50%정도가 브랜드 결측"
   ]
  },
  {
   "cell_type": "code",
   "execution_count": 11,
   "metadata": {},
   "outputs": [
    {
     "data": {
      "text/plain": [
       "bcateid          0\n",
       "brand      3930121\n",
       "dcateid          0\n",
       "maker      2196847\n",
       "mcateid          0\n",
       "model      2063426\n",
       "pid              0\n",
       "price            0\n",
       "product          0\n",
       "scateid          0\n",
       "updttm           0\n",
       "dtype: int64"
      ]
     },
     "execution_count": 11,
     "metadata": {},
     "output_type": "execute_result"
    }
   ],
   "source": [
    "df.isnull().sum()"
   ]
  },
  {
   "cell_type": "code",
   "execution_count": 12,
   "metadata": {},
   "outputs": [],
   "source": [
    "no_trash_brand_list = df[~df['brand'].isin(exception_list)]['brand'].value_counts()"
   ]
  },
  {
   "cell_type": "code",
   "execution_count": 16,
   "metadata": {},
   "outputs": [],
   "source": [
    "no_trash_brand_list = no_trash_brand_list[no_trash_brand_list > 100]"
   ]
  },
  {
   "cell_type": "code",
   "execution_count": 17,
   "metadata": {},
   "outputs": [
    {
     "data": {
      "text/plain": [
       "5042"
      ]
     },
     "execution_count": 17,
     "metadata": {},
     "output_type": "execute_result"
    }
   ],
   "source": [
    "len(no_trash_brand_list)"
   ]
  },
  {
   "cell_type": "code",
   "execution_count": 18,
   "metadata": {},
   "outputs": [
    {
     "data": {
      "image/png": "[encoded data removed]",
      "text/plain": [
       "<Figure size 432x288 with 1 Axes>"
      ]
     },
     "metadata": {
      "needs_background": "light"
     },
     "output_type": "display_data"
    }
   ],
   "source": [
    "plt.bar(np.arange(len(no_trash_brand_list.index)), no_trash_brand_list.values)\n",
    "frame1 = plt.gca()\n",
    "frame1.axes.get_xaxis().set_visible(False)"
   ]
  },
  {
   "cell_type": "code",
   "execution_count": 27,
   "metadata": {},
   "outputs": [
    {
     "data": {
      "text/plain": [
       "바보사랑     66645\n",
       "기타       64144\n",
       "아디다스     32292\n",
       "나이키      30785\n",
       "아트박스     28518\n",
       "1300K    20791\n",
       "텐바이텐     15397\n",
       "핫트랙스     14835\n",
       "삼성전자     14770\n",
       "오가닉맘     14694\n",
       "Name: brand, dtype: int64"
      ]
     },
     "execution_count": 27,
     "metadata": {},
     "output_type": "execute_result"
    }
   ],
   "source": [
    "no_trash_brand_list[:10]"
   ]
  },
  {
   "cell_type": "code",
   "execution_count": 26,
   "metadata": {},
   "outputs": [
    {
     "data": {
      "text/plain": [
       "3     17821\n",
       "11    13502\n",
       "35     6519\n",
       "16     4591\n",
       "14     4351\n",
       "8      2492\n",
       "50     2188\n",
       "20     1764\n",
       "1      1434\n",
       "49     1320\n",
       "Name: bcateid, dtype: int64"
      ]
     },
     "execution_count": 26,
     "metadata": {},
     "output_type": "execute_result"
    }
   ],
   "source": [
    "df[df['brand'] == \"바보사랑\"]['bcateid'].value_counts()[:10]"
   ]
  },
  {
   "cell_type": "markdown",
   "metadata": {},
   "source": [
    "- counts 상위 브랜드 : 대부분의 bcateid를 포함.\n",
    "- counts 하위 브랜드 : 갯수가 너무 많음"
   ]
  },
  {
   "cell_type": "markdown",
   "metadata": {},
   "source": [
    "#### check train brand in dev\n",
    "- insight : dev의 brand는 train에서 3%정도는 등장하지 않았던 브랜드"
   ]
  },
  {
   "cell_type": "code",
   "execution_count": 8,
   "metadata": {},
   "outputs": [],
   "source": [
    "train_brand_dict = dict(df.brand.value_counts())"
   ]
  },
  {
   "cell_type": "code",
   "execution_count": 9,
   "metadata": {},
   "outputs": [],
   "source": [
    "def check_brd_dict(pid):\n",
    "    if pid in train_brand_dict:\n",
    "        return 1\n",
    "    else:\n",
    "        return 0\n",
    "\n",
    "test = dev_df.dropna(subset=['brand']).brand.apply(lambda x: check_brd_dict(x))"
   ]
  },
  {
   "cell_type": "code",
   "execution_count": 10,
   "metadata": {},
   "outputs": [
    {
     "data": {
      "text/plain": [
       "1    252278\n",
       "0      9771\n",
       "Name: brand, dtype: int64"
      ]
     },
     "execution_count": 10,
     "metadata": {},
     "output_type": "execute_result"
    }
   ],
   "source": [
    "test.value_counts() ## --> dev의 brand는 train에서 3%정도는 등장하지 않았던 브랜드"
   ]
  },
  {
   "cell_type": "code",
   "execution_count": 11,
   "metadata": {},
   "outputs": [
    {
     "data": {
      "text/plain": [
       "0.03873108237737734"
      ]
     },
     "execution_count": 11,
     "metadata": {},
     "output_type": "execute_result"
    }
   ],
   "source": [
    "9771 / 252278"
   ]
  },
  {
   "cell_type": "markdown",
   "metadata": {},
   "source": [
    "#### brand normalized distribution"
   ]
  },
  {
   "cell_type": "code",
   "execution_count": 22,
   "metadata": {},
   "outputs": [],
   "source": [
    "no_trash_brand_list = df[~df['brand'].isin(exception_list)]['brand'].value_counts()"
   ]
  },
  {
   "cell_type": "code",
   "execution_count": 23,
   "metadata": {},
   "outputs": [],
   "source": [
    "from scipy import stats"
   ]
  },
  {
   "cell_type": "code",
   "execution_count": 24,
   "metadata": {},
   "outputs": [
    {
     "name": "stdout",
     "output_type": "stream",
     "text": [
      "-0.06294202190025026\n",
      "220.3748984343736\n",
      "193211\n"
     ]
    }
   ],
   "source": [
    "brand_z_list = stats.zscore(no_trash_brand_list.values)\n",
    "print(brand_z_list.min())\n",
    "print(brand_z_list.max())\n",
    "print(len(brand_z_list))"
   ]
  },
  {
   "cell_type": "code",
   "execution_count": 28,
   "metadata": {},
   "outputs": [],
   "source": [
    "datamin = -5\n",
    "datamax = 5\n",
    "numbins = 1000\n",
    "mybins = np.linspace(datamin, datamax, numbins)"
   ]
  },
  {
   "cell_type": "code",
   "execution_count": 36,
   "metadata": {},
   "outputs": [
    {
     "data": {
      "text/plain": [
       "(array([0.00000e+00, 0.00000e+00, 0.00000e+00, 0.00000e+00, 0.00000e+00,\n",
       "        0.00000e+00, 0.00000e+00, 0.00000e+00, 0.00000e+00, 0.00000e+00,\n",
       "        0.00000e+00, 0.00000e+00, 0.00000e+00, 0.00000e+00, 0.00000e+00,\n",
       "        0.00000e+00, 0.00000e+00, 0.00000e+00, 0.00000e+00, 0.00000e+00,\n",
       "        0.00000e+00, 0.00000e+00, 0.00000e+00, 0.00000e+00, 0.00000e+00,\n",
       "        0.00000e+00, 0.00000e+00, 0.00000e+00, 0.00000e+00, 0.00000e+00,\n",
       "        0.00000e+00, 0.00000e+00, 0.00000e+00, 0.00000e+00, 0.00000e+00,\n",
       "        0.00000e+00, 0.00000e+00, 0.00000e+00, 0.00000e+00, 0.00000e+00,\n",
       "        0.00000e+00, 0.00000e+00, 0.00000e+00, 0.00000e+00, 0.00000e+00,\n",
       "        0.00000e+00, 0.00000e+00, 0.00000e+00, 0.00000e+00, 0.00000e+00,\n",
       "        0.00000e+00, 0.00000e+00, 0.00000e+00, 0.00000e+00, 0.00000e+00,\n",
       "        0.00000e+00, 0.00000e+00, 0.00000e+00, 0.00000e+00, 0.00000e+00,\n",
       "        0.00000e+00, 0.00000e+00, 0.00000e+00, 0.00000e+00, 0.00000e+00,\n",
       "        0.00000e+00, 0.00000e+00, 0.00000e+00, 0.00000e+00, 0.00000e+00,\n",
       "        0.00000e+00, 0.00000e+00, 0.00000e+00, 0.00000e+00, 0.00000e+00,\n",
       "        0.00000e+00, 0.00000e+00, 0.00000e+00, 0.00000e+00, 0.00000e+00,\n",
       "        0.00000e+00, 0.00000e+00, 0.00000e+00, 0.00000e+00, 0.00000e+00,\n",
       "        0.00000e+00, 0.00000e+00, 0.00000e+00, 0.00000e+00, 0.00000e+00,\n",
       "        0.00000e+00, 0.00000e+00, 0.00000e+00, 0.00000e+00, 0.00000e+00,\n",
       "        0.00000e+00, 0.00000e+00, 0.00000e+00, 0.00000e+00, 0.00000e+00,\n",
       "        0.00000e+00, 0.00000e+00, 0.00000e+00, 0.00000e+00, 0.00000e+00,\n",
       "        0.00000e+00, 0.00000e+00, 0.00000e+00, 0.00000e+00, 0.00000e+00,\n",
       "        0.00000e+00, 0.00000e+00, 0.00000e+00, 0.00000e+00, 0.00000e+00,\n",
       "        0.00000e+00, 0.00000e+00, 0.00000e+00, 0.00000e+00, 0.00000e+00,\n",
       "        0.00000e+00, 0.00000e+00, 0.00000e+00, 0.00000e+00, 0.00000e+00,\n",
       "        0.00000e+00, 0.00000e+00, 0.00000e+00, 0.00000e+00, 0.00000e+00,\n",
       "        0.00000e+00, 0.00000e+00, 0.00000e+00, 0.00000e+00, 0.00000e+00,\n",
       "        0.00000e+00, 0.00000e+00, 0.00000e+00, 0.00000e+00, 0.00000e+00,\n",
       "        0.00000e+00, 0.00000e+00, 0.00000e+00, 0.00000e+00, 0.00000e+00,\n",
       "        0.00000e+00, 0.00000e+00, 0.00000e+00, 0.00000e+00, 0.00000e+00,\n",
       "        0.00000e+00, 0.00000e+00, 0.00000e+00, 0.00000e+00, 0.00000e+00,\n",
       "        0.00000e+00, 0.00000e+00, 0.00000e+00, 0.00000e+00, 0.00000e+00,\n",
       "        0.00000e+00, 0.00000e+00, 0.00000e+00, 0.00000e+00, 0.00000e+00,\n",
       "        0.00000e+00, 0.00000e+00, 0.00000e+00, 0.00000e+00, 0.00000e+00,\n",
       "        0.00000e+00, 0.00000e+00, 0.00000e+00, 0.00000e+00, 0.00000e+00,\n",
       "        0.00000e+00, 0.00000e+00, 0.00000e+00, 0.00000e+00, 0.00000e+00,\n",
       "        0.00000e+00, 0.00000e+00, 0.00000e+00, 0.00000e+00, 0.00000e+00,\n",
       "        0.00000e+00, 0.00000e+00, 0.00000e+00, 0.00000e+00, 0.00000e+00,\n",
       "        0.00000e+00, 0.00000e+00, 0.00000e+00, 0.00000e+00, 0.00000e+00,\n",
       "        0.00000e+00, 0.00000e+00, 0.00000e+00, 0.00000e+00, 0.00000e+00,\n",
       "        0.00000e+00, 0.00000e+00, 0.00000e+00, 0.00000e+00, 0.00000e+00,\n",
       "        0.00000e+00, 0.00000e+00, 0.00000e+00, 0.00000e+00, 0.00000e+00,\n",
       "        0.00000e+00, 0.00000e+00, 0.00000e+00, 0.00000e+00, 0.00000e+00,\n",
       "        0.00000e+00, 0.00000e+00, 0.00000e+00, 0.00000e+00, 0.00000e+00,\n",
       "        0.00000e+00, 0.00000e+00, 0.00000e+00, 0.00000e+00, 0.00000e+00,\n",
       "        0.00000e+00, 0.00000e+00, 0.00000e+00, 0.00000e+00, 0.00000e+00,\n",
       "        0.00000e+00, 0.00000e+00, 0.00000e+00, 0.00000e+00, 0.00000e+00,\n",
       "        0.00000e+00, 0.00000e+00, 0.00000e+00, 0.00000e+00, 0.00000e+00,\n",
       "        0.00000e+00, 0.00000e+00, 0.00000e+00, 0.00000e+00, 0.00000e+00,\n",
       "        0.00000e+00, 0.00000e+00, 0.00000e+00, 0.00000e+00, 0.00000e+00,\n",
       "        0.00000e+00, 0.00000e+00, 0.00000e+00, 0.00000e+00, 0.00000e+00,\n",
       "        0.00000e+00, 0.00000e+00, 0.00000e+00, 0.00000e+00, 0.00000e+00,\n",
       "        0.00000e+00, 0.00000e+00, 0.00000e+00, 0.00000e+00, 0.00000e+00,\n",
       "        0.00000e+00, 0.00000e+00, 0.00000e+00, 0.00000e+00, 0.00000e+00,\n",
       "        0.00000e+00, 0.00000e+00, 0.00000e+00, 0.00000e+00, 0.00000e+00,\n",
       "        0.00000e+00, 0.00000e+00, 0.00000e+00, 0.00000e+00, 0.00000e+00,\n",
       "        0.00000e+00, 0.00000e+00, 0.00000e+00, 0.00000e+00, 0.00000e+00,\n",
       "        0.00000e+00, 0.00000e+00, 0.00000e+00, 0.00000e+00, 0.00000e+00,\n",
       "        0.00000e+00, 0.00000e+00, 0.00000e+00, 0.00000e+00, 0.00000e+00,\n",
       "        0.00000e+00, 0.00000e+00, 0.00000e+00, 0.00000e+00, 0.00000e+00,\n",
       "        0.00000e+00, 0.00000e+00, 0.00000e+00, 0.00000e+00, 0.00000e+00,\n",
       "        0.00000e+00, 0.00000e+00, 0.00000e+00, 0.00000e+00, 0.00000e+00,\n",
       "        0.00000e+00, 0.00000e+00, 0.00000e+00, 0.00000e+00, 0.00000e+00,\n",
       "        0.00000e+00, 0.00000e+00, 0.00000e+00, 0.00000e+00, 0.00000e+00,\n",
       "        0.00000e+00, 0.00000e+00, 0.00000e+00, 0.00000e+00, 0.00000e+00,\n",
       "        0.00000e+00, 0.00000e+00, 0.00000e+00, 0.00000e+00, 0.00000e+00,\n",
       "        0.00000e+00, 0.00000e+00, 0.00000e+00, 0.00000e+00, 0.00000e+00,\n",
       "        0.00000e+00, 0.00000e+00, 0.00000e+00, 0.00000e+00, 0.00000e+00,\n",
       "        0.00000e+00, 0.00000e+00, 0.00000e+00, 0.00000e+00, 0.00000e+00,\n",
       "        0.00000e+00, 0.00000e+00, 0.00000e+00, 0.00000e+00, 0.00000e+00,\n",
       "        0.00000e+00, 0.00000e+00, 0.00000e+00, 0.00000e+00, 0.00000e+00,\n",
       "        0.00000e+00, 0.00000e+00, 0.00000e+00, 0.00000e+00, 0.00000e+00,\n",
       "        0.00000e+00, 0.00000e+00, 0.00000e+00, 0.00000e+00, 0.00000e+00,\n",
       "        0.00000e+00, 0.00000e+00, 0.00000e+00, 0.00000e+00, 0.00000e+00,\n",
       "        0.00000e+00, 0.00000e+00, 0.00000e+00, 0.00000e+00, 0.00000e+00,\n",
       "        0.00000e+00, 0.00000e+00, 0.00000e+00, 0.00000e+00, 0.00000e+00,\n",
       "        0.00000e+00, 0.00000e+00, 0.00000e+00, 0.00000e+00, 0.00000e+00,\n",
       "        0.00000e+00, 0.00000e+00, 0.00000e+00, 0.00000e+00, 0.00000e+00,\n",
       "        0.00000e+00, 0.00000e+00, 0.00000e+00, 0.00000e+00, 0.00000e+00,\n",
       "        0.00000e+00, 0.00000e+00, 0.00000e+00, 0.00000e+00, 0.00000e+00,\n",
       "        0.00000e+00, 0.00000e+00, 0.00000e+00, 0.00000e+00, 0.00000e+00,\n",
       "        0.00000e+00, 0.00000e+00, 0.00000e+00, 0.00000e+00, 0.00000e+00,\n",
       "        0.00000e+00, 0.00000e+00, 0.00000e+00, 0.00000e+00, 0.00000e+00,\n",
       "        0.00000e+00, 0.00000e+00, 0.00000e+00, 0.00000e+00, 0.00000e+00,\n",
       "        0.00000e+00, 0.00000e+00, 0.00000e+00, 0.00000e+00, 0.00000e+00,\n",
       "        0.00000e+00, 0.00000e+00, 0.00000e+00, 0.00000e+00, 0.00000e+00,\n",
       "        0.00000e+00, 0.00000e+00, 0.00000e+00, 0.00000e+00, 0.00000e+00,\n",
       "        0.00000e+00, 0.00000e+00, 0.00000e+00, 0.00000e+00, 0.00000e+00,\n",
       "        0.00000e+00, 0.00000e+00, 0.00000e+00, 0.00000e+00, 0.00000e+00,\n",
       "        0.00000e+00, 0.00000e+00, 0.00000e+00, 0.00000e+00, 0.00000e+00,\n",
       "        0.00000e+00, 0.00000e+00, 0.00000e+00, 0.00000e+00, 0.00000e+00,\n",
       "        0.00000e+00, 0.00000e+00, 0.00000e+00, 0.00000e+00, 0.00000e+00,\n",
       "        0.00000e+00, 0.00000e+00, 0.00000e+00, 0.00000e+00, 0.00000e+00,\n",
       "        0.00000e+00, 0.00000e+00, 0.00000e+00, 0.00000e+00, 0.00000e+00,\n",
       "        0.00000e+00, 0.00000e+00, 0.00000e+00, 0.00000e+00, 0.00000e+00,\n",
       "        0.00000e+00, 0.00000e+00, 0.00000e+00, 0.00000e+00, 0.00000e+00,\n",
       "        0.00000e+00, 0.00000e+00, 0.00000e+00, 0.00000e+00, 0.00000e+00,\n",
       "        0.00000e+00, 0.00000e+00, 0.00000e+00, 0.00000e+00, 0.00000e+00,\n",
       "        0.00000e+00, 0.00000e+00, 0.00000e+00, 1.30535e+05, 2.09010e+04,\n",
       "        9.47700e+03, 5.62400e+03, 3.70100e+03, 2.81100e+03, 2.11400e+03,\n",
       "        1.70000e+03, 1.37100e+03, 1.22200e+03, 9.79000e+02, 9.06000e+02,\n",
       "        7.26000e+02, 6.74000e+02, 5.40000e+02, 5.45000e+02, 4.60000e+02,\n",
       "        3.76000e+02, 3.76000e+02, 3.03000e+02, 2.89000e+02, 2.86000e+02,\n",
       "        2.55000e+02, 2.45000e+02, 3.35000e+02, 2.29000e+02, 2.12000e+02,\n",
       "        1.83000e+02, 1.67000e+02, 1.74000e+02, 1.59000e+02, 1.53000e+02,\n",
       "        1.41000e+02, 1.36000e+02, 1.19000e+02, 1.27000e+02, 1.05000e+02,\n",
       "        1.09000e+02, 1.00000e+02, 8.50000e+01, 8.90000e+01, 7.70000e+01,\n",
       "        8.70000e+01, 8.80000e+01, 8.90000e+01, 7.70000e+01, 7.80000e+01,\n",
       "        6.20000e+01, 7.20000e+01, 6.40000e+01, 5.10000e+01, 5.00000e+01,\n",
       "        4.90000e+01, 6.40000e+01, 5.70000e+01, 4.20000e+01, 4.80000e+01,\n",
       "        4.20000e+01, 4.50000e+01, 5.70000e+01, 3.00000e+01, 3.70000e+01,\n",
       "        5.70000e+01, 3.40000e+01, 3.60000e+01, 4.10000e+01, 3.10000e+01,\n",
       "        3.20000e+01, 2.80000e+01, 3.80000e+01, 4.30000e+01, 3.00000e+01,\n",
       "        2.90000e+01, 2.20000e+01, 3.90000e+01, 3.20000e+01, 3.30000e+01,\n",
       "        1.90000e+01, 2.50000e+01, 3.40000e+01, 2.60000e+01, 1.90000e+01,\n",
       "        3.00000e+01, 2.60000e+01, 2.00000e+01, 3.10000e+01, 2.10000e+01,\n",
       "        3.10000e+01, 2.00000e+01, 2.20000e+01, 1.70000e+01, 2.00000e+01,\n",
       "        1.90000e+01, 2.00000e+01, 2.20000e+01, 1.40000e+01, 1.60000e+01,\n",
       "        2.00000e+01, 1.90000e+01, 1.60000e+01, 3.00000e+01, 2.10000e+01,\n",
       "        1.70000e+01, 1.40000e+01, 1.30000e+01, 2.50000e+01, 1.70000e+01,\n",
       "        1.70000e+01, 1.10000e+01, 1.50000e+01, 1.30000e+01, 5.00000e+00,\n",
       "        1.00000e+01, 1.60000e+01, 1.10000e+01, 8.00000e+00, 1.50000e+01,\n",
       "        1.20000e+01, 7.00000e+00, 1.00000e+01, 1.10000e+01, 1.30000e+01,\n",
       "        1.50000e+01, 1.40000e+01, 1.40000e+01, 1.20000e+01, 1.70000e+01,\n",
       "        1.30000e+01, 1.50000e+01, 9.00000e+00, 1.10000e+01, 1.10000e+01,\n",
       "        1.10000e+01, 1.00000e+01, 1.00000e+01, 1.20000e+01, 1.20000e+01,\n",
       "        1.40000e+01, 2.00000e+01, 6.00000e+00, 1.40000e+01, 1.00000e+01,\n",
       "        9.00000e+00, 6.00000e+00, 5.00000e+00, 7.00000e+00, 7.00000e+00,\n",
       "        8.00000e+00, 6.00000e+00, 7.00000e+00, 6.00000e+00, 1.70000e+01,\n",
       "        9.00000e+00, 7.00000e+00, 1.40000e+01, 6.00000e+00, 7.00000e+00,\n",
       "        5.00000e+00, 8.00000e+00, 8.00000e+00, 7.00000e+00, 1.00000e+01,\n",
       "        7.00000e+00, 7.00000e+00, 7.00000e+00, 7.00000e+00, 3.00000e+00,\n",
       "        7.00000e+00, 9.00000e+00, 3.00000e+00, 8.00000e+00, 6.00000e+00,\n",
       "        6.00000e+00, 1.20000e+01, 5.00000e+00, 7.00000e+00, 8.00000e+00,\n",
       "        9.00000e+00, 4.00000e+00, 8.00000e+00, 4.00000e+00, 4.00000e+00,\n",
       "        8.00000e+00, 1.10000e+01, 4.00000e+00, 5.00000e+00, 8.00000e+00,\n",
       "        8.00000e+00, 5.00000e+00, 8.00000e+00, 6.00000e+00, 4.00000e+00,\n",
       "        4.00000e+00, 5.00000e+00, 4.00000e+00, 5.00000e+00, 6.00000e+00,\n",
       "        6.00000e+00, 6.00000e+00, 6.00000e+00, 8.00000e+00, 4.00000e+00,\n",
       "        4.00000e+00, 5.00000e+00, 5.00000e+00, 5.00000e+00, 6.00000e+00,\n",
       "        2.00000e+00, 2.00000e+00, 3.00000e+00, 5.00000e+00, 7.00000e+00,\n",
       "        7.00000e+00, 6.00000e+00, 2.00000e+00, 3.00000e+00, 1.00000e+00,\n",
       "        2.00000e+00, 3.00000e+00, 2.00000e+00, 5.00000e+00, 1.10000e+01,\n",
       "        7.00000e+00, 1.00000e+00, 2.00000e+00, 4.00000e+00, 4.00000e+00,\n",
       "        6.00000e+00, 2.00000e+00, 3.00000e+00, 2.00000e+00, 5.00000e+00,\n",
       "        3.00000e+00, 7.00000e+00, 5.00000e+00, 2.00000e+00, 1.00000e+00,\n",
       "        5.00000e+00, 3.00000e+00, 2.00000e+00, 2.00000e+00, 1.00000e+00,\n",
       "        6.00000e+00, 3.00000e+00, 3.00000e+00, 0.00000e+00, 3.00000e+00,\n",
       "        3.00000e+00, 5.00000e+00, 6.00000e+00, 4.00000e+00, 8.00000e+00,\n",
       "        2.00000e+00, 2.00000e+00, 3.00000e+00, 2.00000e+00, 1.00000e+00,\n",
       "        2.00000e+00, 5.00000e+00, 3.00000e+00, 4.00000e+00, 2.00000e+00,\n",
       "        4.00000e+00, 1.00000e+00, 1.00000e+00, 3.00000e+00, 8.00000e+00,\n",
       "        1.00000e+00, 6.00000e+00, 2.00000e+00, 5.00000e+00, 3.00000e+00,\n",
       "        4.00000e+00, 0.00000e+00, 5.00000e+00, 4.00000e+00, 2.00000e+00,\n",
       "        2.00000e+00, 0.00000e+00, 3.00000e+00, 1.00000e+00, 7.00000e+00,\n",
       "        4.00000e+00, 1.00000e+00, 3.00000e+00, 6.00000e+00, 2.00000e+00,\n",
       "        1.00000e+00, 3.00000e+00, 3.00000e+00, 2.00000e+00, 1.00000e+00,\n",
       "        1.00000e+00, 2.00000e+00, 1.00000e+00, 0.00000e+00, 1.00000e+00,\n",
       "        1.00000e+00, 2.00000e+00, 0.00000e+00, 2.00000e+00, 1.00000e+00,\n",
       "        4.00000e+00, 4.00000e+00, 2.00000e+00, 1.00000e+00, 3.00000e+00,\n",
       "        1.00000e+00, 0.00000e+00, 0.00000e+00, 1.00000e+00, 1.00000e+00,\n",
       "        2.00000e+00, 0.00000e+00, 1.00000e+00, 1.00000e+00, 2.00000e+00,\n",
       "        2.00000e+00, 3.00000e+00, 2.00000e+00, 1.00000e+00, 3.00000e+00,\n",
       "        1.00000e+00, 2.00000e+00, 3.00000e+00, 3.00000e+00, 3.00000e+00,\n",
       "        3.00000e+00, 1.00000e+00, 3.00000e+00, 2.00000e+00, 1.00000e+00,\n",
       "        5.00000e+00, 3.00000e+00, 0.00000e+00, 4.00000e+00, 0.00000e+00,\n",
       "        1.00000e+00, 2.00000e+00, 4.00000e+00, 4.00000e+00, 3.00000e+00,\n",
       "        0.00000e+00, 1.00000e+00, 1.00000e+00, 0.00000e+00, 1.00000e+00,\n",
       "        3.00000e+00, 3.00000e+00, 1.00000e+00, 3.00000e+00, 3.00000e+00,\n",
       "        3.00000e+00, 5.00000e+00, 0.00000e+00, 2.00000e+00, 1.00000e+00,\n",
       "        2.00000e+00, 2.00000e+00, 3.00000e+00, 4.00000e+00, 5.00000e+00,\n",
       "        2.00000e+00, 0.00000e+00, 1.00000e+00, 2.00000e+00, 3.00000e+00,\n",
       "        3.00000e+00, 0.00000e+00, 2.00000e+00, 0.00000e+00, 1.00000e+00,\n",
       "        3.00000e+00, 1.00000e+00, 0.00000e+00, 2.00000e+00, 1.00000e+00,\n",
       "        2.00000e+00, 1.00000e+00, 0.00000e+00, 1.00000e+00, 2.00000e+00,\n",
       "        2.00000e+00, 1.00000e+00, 3.00000e+00, 1.00000e+00, 2.00000e+00,\n",
       "        3.00000e+00, 4.00000e+00, 1.00000e+00, 2.00000e+00, 0.00000e+00,\n",
       "        2.00000e+00, 2.00000e+00, 2.00000e+00, 0.00000e+00, 0.00000e+00,\n",
       "        0.00000e+00, 2.00000e+00, 0.00000e+00, 0.00000e+00, 2.00000e+00,\n",
       "        3.00000e+00, 2.00000e+00, 1.00000e+00, 6.00000e+00, 1.00000e+00,\n",
       "        2.00000e+00, 2.00000e+00, 2.00000e+00, 3.00000e+00, 4.00000e+00,\n",
       "        0.00000e+00, 0.00000e+00, 1.00000e+00, 5.00000e+00, 1.00000e+00,\n",
       "        0.00000e+00, 0.00000e+00, 2.00000e+00, 0.00000e+00, 0.00000e+00,\n",
       "        0.00000e+00, 0.00000e+00, 1.00000e+00, 0.00000e+00, 1.00000e+00,\n",
       "        1.00000e+00, 1.00000e+00, 0.00000e+00, 2.00000e+00, 0.00000e+00,\n",
       "        0.00000e+00, 1.00000e+00, 1.00000e+00, 1.00000e+00, 2.00000e+00,\n",
       "        0.00000e+00, 0.00000e+00, 1.00000e+00, 0.00000e+00, 1.00000e+00,\n",
       "        0.00000e+00, 0.00000e+00, 3.00000e+00, 2.00000e+00, 2.00000e+00,\n",
       "        1.00000e+00, 0.00000e+00, 0.00000e+00, 0.00000e+00, 0.00000e+00,\n",
       "        1.00000e+00, 1.00000e+00, 2.00000e+00, 1.00000e+00, 1.00000e+00,\n",
       "        1.00000e+00, 2.00000e+00, 3.00000e+00, 1.00000e+00, 1.00000e+00,\n",
       "        2.00000e+00, 1.00000e+00, 4.00000e+00, 2.00000e+00, 1.00000e+00,\n",
       "        0.00000e+00, 0.00000e+00, 1.00000e+00, 0.00000e+00, 0.00000e+00,\n",
       "        2.00000e+00, 1.00000e+00, 2.00000e+00, 1.00000e+00, 0.00000e+00,\n",
       "        1.00000e+00, 1.00000e+00, 1.00000e+00, 0.00000e+00, 0.00000e+00,\n",
       "        1.00000e+00, 0.00000e+00, 0.00000e+00, 0.00000e+00, 1.00000e+00,\n",
       "        0.00000e+00, 2.00000e+00, 0.00000e+00, 2.00000e+00, 1.00000e+00,\n",
       "        0.00000e+00, 0.00000e+00, 3.00000e+00, 1.00000e+00, 0.00000e+00,\n",
       "        1.00000e+00, 1.00000e+00, 1.00000e+00, 0.00000e+00, 1.00000e+00,\n",
       "        0.00000e+00, 0.00000e+00, 1.00000e+00, 0.00000e+00]),\n",
       " array([-5.        , -4.98998999, -4.97997998, -4.96996997, -4.95995996,\n",
       "        -4.94994995, -4.93993994, -4.92992993, -4.91991992, -4.90990991,\n",
       "        -4.8998999 , -4.88988989, -4.87987988, -4.86986987, -4.85985986,\n",
       "        -4.84984985, -4.83983984, -4.82982983, -4.81981982, -4.80980981,\n",
       "        -4.7997998 , -4.78978979, -4.77977978, -4.76976977, -4.75975976,\n",
       "        -4.74974975, -4.73973974, -4.72972973, -4.71971972, -4.70970971,\n",
       "        -4.6996997 , -4.68968969, -4.67967968, -4.66966967, -4.65965966,\n",
       "        -4.64964965, -4.63963964, -4.62962963, -4.61961962, -4.60960961,\n",
       "        -4.5995996 , -4.58958959, -4.57957958, -4.56956957, -4.55955956,\n",
       "        -4.54954955, -4.53953954, -4.52952953, -4.51951952, -4.50950951,\n",
       "        -4.4994995 , -4.48948949, -4.47947948, -4.46946947, -4.45945946,\n",
       "        -4.44944945, -4.43943944, -4.42942943, -4.41941942, -4.40940941,\n",
       "        -4.3993994 , -4.38938939, -4.37937938, -4.36936937, -4.35935936,\n",
       "        -4.34934935, -4.33933934, -4.32932933, -4.31931932, -4.30930931,\n",
       "        -4.2992993 , -4.28928929, -4.27927928, -4.26926927, -4.25925926,\n",
       "        -4.24924925, -4.23923924, -4.22922923, -4.21921922, -4.20920921,\n",
       "        -4.1991992 , -4.18918919, -4.17917918, -4.16916917, -4.15915916,\n",
       "        -4.14914915, -4.13913914, -4.12912913, -4.11911912, -4.10910911,\n",
       "        -4.0990991 , -4.08908909, -4.07907908, -4.06906907, -4.05905906,\n",
       "        -4.04904905, -4.03903904, -4.02902903, -4.01901902, -4.00900901,\n",
       "        -3.998999  , -3.98898899, -3.97897898, -3.96896897, -3.95895896,\n",
       "        -3.94894895, -3.93893894, -3.92892893, -3.91891892, -3.90890891,\n",
       "        -3.8988989 , -3.88888889, -3.87887888, -3.86886887, -3.85885886,\n",
       "        -3.84884885, -3.83883884, -3.82882883, -3.81881882, -3.80880881,\n",
       "        -3.7987988 , -3.78878879, -3.77877878, -3.76876877, -3.75875876,\n",
       "        -3.74874875, -3.73873874, -3.72872873, -3.71871872, -3.70870871,\n",
       "        -3.6986987 , -3.68868869, -3.67867868, -3.66866867, -3.65865866,\n",
       "        -3.64864865, -3.63863864, -3.62862863, -3.61861862, -3.60860861,\n",
       "        -3.5985986 , -3.58858859, -3.57857858, -3.56856857, -3.55855856,\n",
       "        -3.54854855, -3.53853854, -3.52852853, -3.51851852, -3.50850851,\n",
       "        -3.4984985 , -3.48848849, -3.47847848, -3.46846847, -3.45845846,\n",
       "        -3.44844845, -3.43843844, -3.42842843, -3.41841842, -3.40840841,\n",
       "        -3.3983984 , -3.38838839, -3.37837838, -3.36836837, -3.35835836,\n",
       "        -3.34834835, -3.33833834, -3.32832833, -3.31831832, -3.30830831,\n",
       "        -3.2982983 , -3.28828829, -3.27827828, -3.26826827, -3.25825826,\n",
       "        -3.24824825, -3.23823824, -3.22822823, -3.21821822, -3.20820821,\n",
       "        -3.1981982 , -3.18818819, -3.17817818, -3.16816817, -3.15815816,\n",
       "        -3.14814815, -3.13813814, -3.12812813, -3.11811812, -3.10810811,\n",
       "        -3.0980981 , -3.08808809, -3.07807808, -3.06806807, -3.05805806,\n",
       "        -3.04804805, -3.03803804, -3.02802803, -3.01801802, -3.00800801,\n",
       "        -2.997998  , -2.98798799, -2.97797798, -2.96796797, -2.95795796,\n",
       "        -2.94794795, -2.93793794, -2.92792793, -2.91791792, -2.90790791,\n",
       "        -2.8978979 , -2.88788789, -2.87787788, -2.86786787, -2.85785786,\n",
       "        -2.84784785, -2.83783784, -2.82782783, -2.81781782, -2.80780781,\n",
       "        -2.7977978 , -2.78778779, -2.77777778, -2.76776777, -2.75775776,\n",
       "        -2.74774775, -2.73773774, -2.72772773, -2.71771772, -2.70770771,\n",
       "        -2.6976977 , -2.68768769, -2.67767768, -2.66766767, -2.65765766,\n",
       "        -2.64764765, -2.63763764, -2.62762763, -2.61761762, -2.60760761,\n",
       "        -2.5975976 , -2.58758759, -2.57757758, -2.56756757, -2.55755756,\n",
       "        -2.54754755, -2.53753754, -2.52752753, -2.51751752, -2.50750751,\n",
       "        -2.4974975 , -2.48748749, -2.47747748, -2.46746747, -2.45745746,\n",
       "        -2.44744745, -2.43743744, -2.42742743, -2.41741742, -2.40740741,\n",
       "        -2.3973974 , -2.38738739, -2.37737738, -2.36736737, -2.35735736,\n",
       "        -2.34734735, -2.33733734, -2.32732733, -2.31731732, -2.30730731,\n",
       "        -2.2972973 , -2.28728729, -2.27727728, -2.26726727, -2.25725726,\n",
       "        -2.24724725, -2.23723724, -2.22722723, -2.21721722, -2.20720721,\n",
       "        -2.1971972 , -2.18718719, -2.17717718, -2.16716717, -2.15715716,\n",
       "        -2.14714715, -2.13713714, -2.12712713, -2.11711712, -2.10710711,\n",
       "        -2.0970971 , -2.08708709, -2.07707708, -2.06706707, -2.05705706,\n",
       "        -2.04704705, -2.03703704, -2.02702703, -2.01701702, -2.00700701,\n",
       "        -1.996997  , -1.98698699, -1.97697698, -1.96696697, -1.95695696,\n",
       "        -1.94694695, -1.93693694, -1.92692693, -1.91691692, -1.90690691,\n",
       "        -1.8968969 , -1.88688689, -1.87687688, -1.86686687, -1.85685686,\n",
       "        -1.84684685, -1.83683684, -1.82682683, -1.81681682, -1.80680681,\n",
       "        -1.7967968 , -1.78678679, -1.77677678, -1.76676677, -1.75675676,\n",
       "        -1.74674675, -1.73673674, -1.72672673, -1.71671672, -1.70670671,\n",
       "        -1.6966967 , -1.68668669, -1.67667668, -1.66666667, -1.65665666,\n",
       "        -1.64664665, -1.63663664, -1.62662663, -1.61661662, -1.60660661,\n",
       "        -1.5965966 , -1.58658659, -1.57657658, -1.56656657, -1.55655656,\n",
       "        -1.54654655, -1.53653654, -1.52652653, -1.51651652, -1.50650651,\n",
       "        -1.4964965 , -1.48648649, -1.47647648, -1.46646647, -1.45645646,\n",
       "        -1.44644645, -1.43643644, -1.42642643, -1.41641642, -1.40640641,\n",
       "        -1.3963964 , -1.38638639, -1.37637638, -1.36636637, -1.35635636,\n",
       "        -1.34634635, -1.33633634, -1.32632633, -1.31631632, -1.30630631,\n",
       "        -1.2962963 , -1.28628629, -1.27627628, -1.26626627, -1.25625626,\n",
       "        -1.24624625, -1.23623624, -1.22622623, -1.21621622, -1.20620621,\n",
       "        -1.1961962 , -1.18618619, -1.17617618, -1.16616617, -1.15615616,\n",
       "        -1.14614615, -1.13613614, -1.12612613, -1.11611612, -1.10610611,\n",
       "        -1.0960961 , -1.08608609, -1.07607608, -1.06606607, -1.05605606,\n",
       "        -1.04604605, -1.03603604, -1.02602603, -1.01601602, -1.00600601,\n",
       "        -0.995996  , -0.98598599, -0.97597598, -0.96596597, -0.95595596,\n",
       "        -0.94594595, -0.93593594, -0.92592593, -0.91591592, -0.90590591,\n",
       "        -0.8958959 , -0.88588589, -0.87587588, -0.86586587, -0.85585586,\n",
       "        -0.84584585, -0.83583584, -0.82582583, -0.81581582, -0.80580581,\n",
       "        -0.7957958 , -0.78578579, -0.77577578, -0.76576577, -0.75575576,\n",
       "        -0.74574575, -0.73573574, -0.72572573, -0.71571572, -0.70570571,\n",
       "        -0.6956957 , -0.68568569, -0.67567568, -0.66566567, -0.65565566,\n",
       "        -0.64564565, -0.63563564, -0.62562563, -0.61561562, -0.60560561,\n",
       "        -0.5955956 , -0.58558559, -0.57557558, -0.56556557, -0.55555556,\n",
       "        -0.54554555, -0.53553554, -0.52552553, -0.51551552, -0.50550551,\n",
       "        -0.4954955 , -0.48548549, -0.47547548, -0.46546547, -0.45545546,\n",
       "        -0.44544545, -0.43543544, -0.42542543, -0.41541542, -0.40540541,\n",
       "        -0.3953954 , -0.38538539, -0.37537538, -0.36536537, -0.35535536,\n",
       "        -0.34534535, -0.33533534, -0.32532533, -0.31531532, -0.30530531,\n",
       "        -0.2952953 , -0.28528529, -0.27527528, -0.26526527, -0.25525526,\n",
       "        -0.24524525, -0.23523524, -0.22522523, -0.21521522, -0.20520521,\n",
       "        -0.1951952 , -0.18518519, -0.17517518, -0.16516517, -0.15515516,\n",
       "        -0.14514515, -0.13513514, -0.12512513, -0.11511512, -0.10510511,\n",
       "        -0.0950951 , -0.08508509, -0.07507508, -0.06506507, -0.05505506,\n",
       "        -0.04504505, -0.03503504, -0.02502503, -0.01501502, -0.00500501,\n",
       "         0.00500501,  0.01501502,  0.02502503,  0.03503504,  0.04504505,\n",
       "         0.05505506,  0.06506507,  0.07507508,  0.08508509,  0.0950951 ,\n",
       "         0.10510511,  0.11511512,  0.12512513,  0.13513514,  0.14514515,\n",
       "         0.15515516,  0.16516517,  0.17517518,  0.18518519,  0.1951952 ,\n",
       "         0.20520521,  0.21521522,  0.22522523,  0.23523524,  0.24524525,\n",
       "         0.25525526,  0.26526527,  0.27527528,  0.28528529,  0.2952953 ,\n",
       "         0.30530531,  0.31531532,  0.32532533,  0.33533534,  0.34534535,\n",
       "         0.35535536,  0.36536537,  0.37537538,  0.38538539,  0.3953954 ,\n",
       "         0.40540541,  0.41541542,  0.42542543,  0.43543544,  0.44544545,\n",
       "         0.45545546,  0.46546547,  0.47547548,  0.48548549,  0.4954955 ,\n",
       "         0.50550551,  0.51551552,  0.52552553,  0.53553554,  0.54554555,\n",
       "         0.55555556,  0.56556557,  0.57557558,  0.58558559,  0.5955956 ,\n",
       "         0.60560561,  0.61561562,  0.62562563,  0.63563564,  0.64564565,\n",
       "         0.65565566,  0.66566567,  0.67567568,  0.68568569,  0.6956957 ,\n",
       "         0.70570571,  0.71571572,  0.72572573,  0.73573574,  0.74574575,\n",
       "         0.75575576,  0.76576577,  0.77577578,  0.78578579,  0.7957958 ,\n",
       "         0.80580581,  0.81581582,  0.82582583,  0.83583584,  0.84584585,\n",
       "         0.85585586,  0.86586587,  0.87587588,  0.88588589,  0.8958959 ,\n",
       "         0.90590591,  0.91591592,  0.92592593,  0.93593594,  0.94594595,\n",
       "         0.95595596,  0.96596597,  0.97597598,  0.98598599,  0.995996  ,\n",
       "         1.00600601,  1.01601602,  1.02602603,  1.03603604,  1.04604605,\n",
       "         1.05605606,  1.06606607,  1.07607608,  1.08608609,  1.0960961 ,\n",
       "         1.10610611,  1.11611612,  1.12612613,  1.13613614,  1.14614615,\n",
       "         1.15615616,  1.16616617,  1.17617618,  1.18618619,  1.1961962 ,\n",
       "         1.20620621,  1.21621622,  1.22622623,  1.23623624,  1.24624625,\n",
       "         1.25625626,  1.26626627,  1.27627628,  1.28628629,  1.2962963 ,\n",
       "         1.30630631,  1.31631632,  1.32632633,  1.33633634,  1.34634635,\n",
       "         1.35635636,  1.36636637,  1.37637638,  1.38638639,  1.3963964 ,\n",
       "         1.40640641,  1.41641642,  1.42642643,  1.43643644,  1.44644645,\n",
       "         1.45645646,  1.46646647,  1.47647648,  1.48648649,  1.4964965 ,\n",
       "         1.50650651,  1.51651652,  1.52652653,  1.53653654,  1.54654655,\n",
       "         1.55655656,  1.56656657,  1.57657658,  1.58658659,  1.5965966 ,\n",
       "         1.60660661,  1.61661662,  1.62662663,  1.63663664,  1.64664665,\n",
       "         1.65665666,  1.66666667,  1.67667668,  1.68668669,  1.6966967 ,\n",
       "         1.70670671,  1.71671672,  1.72672673,  1.73673674,  1.74674675,\n",
       "         1.75675676,  1.76676677,  1.77677678,  1.78678679,  1.7967968 ,\n",
       "         1.80680681,  1.81681682,  1.82682683,  1.83683684,  1.84684685,\n",
       "         1.85685686,  1.86686687,  1.87687688,  1.88688689,  1.8968969 ,\n",
       "         1.90690691,  1.91691692,  1.92692693,  1.93693694,  1.94694695,\n",
       "         1.95695696,  1.96696697,  1.97697698,  1.98698699,  1.996997  ,\n",
       "         2.00700701,  2.01701702,  2.02702703,  2.03703704,  2.04704705,\n",
       "         2.05705706,  2.06706707,  2.07707708,  2.08708709,  2.0970971 ,\n",
       "         2.10710711,  2.11711712,  2.12712713,  2.13713714,  2.14714715,\n",
       "         2.15715716,  2.16716717,  2.17717718,  2.18718719,  2.1971972 ,\n",
       "         2.20720721,  2.21721722,  2.22722723,  2.23723724,  2.24724725,\n",
       "         2.25725726,  2.26726727,  2.27727728,  2.28728729,  2.2972973 ,\n",
       "         2.30730731,  2.31731732,  2.32732733,  2.33733734,  2.34734735,\n",
       "         2.35735736,  2.36736737,  2.37737738,  2.38738739,  2.3973974 ,\n",
       "         2.40740741,  2.41741742,  2.42742743,  2.43743744,  2.44744745,\n",
       "         2.45745746,  2.46746747,  2.47747748,  2.48748749,  2.4974975 ,\n",
       "         2.50750751,  2.51751752,  2.52752753,  2.53753754,  2.54754755,\n",
       "         2.55755756,  2.56756757,  2.57757758,  2.58758759,  2.5975976 ,\n",
       "         2.60760761,  2.61761762,  2.62762763,  2.63763764,  2.64764765,\n",
       "         2.65765766,  2.66766767,  2.67767768,  2.68768769,  2.6976977 ,\n",
       "         2.70770771,  2.71771772,  2.72772773,  2.73773774,  2.74774775,\n",
       "         2.75775776,  2.76776777,  2.77777778,  2.78778779,  2.7977978 ,\n",
       "         2.80780781,  2.81781782,  2.82782783,  2.83783784,  2.84784785,\n",
       "         2.85785786,  2.86786787,  2.87787788,  2.88788789,  2.8978979 ,\n",
       "         2.90790791,  2.91791792,  2.92792793,  2.93793794,  2.94794795,\n",
       "         2.95795796,  2.96796797,  2.97797798,  2.98798799,  2.997998  ,\n",
       "         3.00800801,  3.01801802,  3.02802803,  3.03803804,  3.04804805,\n",
       "         3.05805806,  3.06806807,  3.07807808,  3.08808809,  3.0980981 ,\n",
       "         3.10810811,  3.11811812,  3.12812813,  3.13813814,  3.14814815,\n",
       "         3.15815816,  3.16816817,  3.17817818,  3.18818819,  3.1981982 ,\n",
       "         3.20820821,  3.21821822,  3.22822823,  3.23823824,  3.24824825,\n",
       "         3.25825826,  3.26826827,  3.27827828,  3.28828829,  3.2982983 ,\n",
       "         3.30830831,  3.31831832,  3.32832833,  3.33833834,  3.34834835,\n",
       "         3.35835836,  3.36836837,  3.37837838,  3.38838839,  3.3983984 ,\n",
       "         3.40840841,  3.41841842,  3.42842843,  3.43843844,  3.44844845,\n",
       "         3.45845846,  3.46846847,  3.47847848,  3.48848849,  3.4984985 ,\n",
       "         3.50850851,  3.51851852,  3.52852853,  3.53853854,  3.54854855,\n",
       "         3.55855856,  3.56856857,  3.57857858,  3.58858859,  3.5985986 ,\n",
       "         3.60860861,  3.61861862,  3.62862863,  3.63863864,  3.64864865,\n",
       "         3.65865866,  3.66866867,  3.67867868,  3.68868869,  3.6986987 ,\n",
       "         3.70870871,  3.71871872,  3.72872873,  3.73873874,  3.74874875,\n",
       "         3.75875876,  3.76876877,  3.77877878,  3.78878879,  3.7987988 ,\n",
       "         3.80880881,  3.81881882,  3.82882883,  3.83883884,  3.84884885,\n",
       "         3.85885886,  3.86886887,  3.87887888,  3.88888889,  3.8988989 ,\n",
       "         3.90890891,  3.91891892,  3.92892893,  3.93893894,  3.94894895,\n",
       "         3.95895896,  3.96896897,  3.97897898,  3.98898899,  3.998999  ,\n",
       "         4.00900901,  4.01901902,  4.02902903,  4.03903904,  4.04904905,\n",
       "         4.05905906,  4.06906907,  4.07907908,  4.08908909,  4.0990991 ,\n",
       "         4.10910911,  4.11911912,  4.12912913,  4.13913914,  4.14914915,\n",
       "         4.15915916,  4.16916917,  4.17917918,  4.18918919,  4.1991992 ,\n",
       "         4.20920921,  4.21921922,  4.22922923,  4.23923924,  4.24924925,\n",
       "         4.25925926,  4.26926927,  4.27927928,  4.28928929,  4.2992993 ,\n",
       "         4.30930931,  4.31931932,  4.32932933,  4.33933934,  4.34934935,\n",
       "         4.35935936,  4.36936937,  4.37937938,  4.38938939,  4.3993994 ,\n",
       "         4.40940941,  4.41941942,  4.42942943,  4.43943944,  4.44944945,\n",
       "         4.45945946,  4.46946947,  4.47947948,  4.48948949,  4.4994995 ,\n",
       "         4.50950951,  4.51951952,  4.52952953,  4.53953954,  4.54954955,\n",
       "         4.55955956,  4.56956957,  4.57957958,  4.58958959,  4.5995996 ,\n",
       "         4.60960961,  4.61961962,  4.62962963,  4.63963964,  4.64964965,\n",
       "         4.65965966,  4.66966967,  4.67967968,  4.68968969,  4.6996997 ,\n",
       "         4.70970971,  4.71971972,  4.72972973,  4.73973974,  4.74974975,\n",
       "         4.75975976,  4.76976977,  4.77977978,  4.78978979,  4.7997998 ,\n",
       "         4.80980981,  4.81981982,  4.82982983,  4.83983984,  4.84984985,\n",
       "         4.85985986,  4.86986987,  4.87987988,  4.88988989,  4.8998999 ,\n",
       "         4.90990991,  4.91991992,  4.92992993,  4.93993994,  4.94994995,\n",
       "         4.95995996,  4.96996997,  4.97997998,  4.98998999,  5.        ]),\n",
       " <a list of 999 Patch objects>)"
      ]
     },
     "execution_count": 36,
     "metadata": {},
     "output_type": "execute_result"
    },
    {
     "data": {
      "image/png": "[encoded data removed]",
      "text/plain": [
       "<Figure size 432x288 with 1 Axes>"
      ]
     },
     "metadata": {
      "needs_background": "light"
     },
     "output_type": "display_data"
    }
   ],
   "source": [
    "plt.ylim(0, 10000)\n",
    "plt.xlim(-0.5, 2)\n",
    "plt.hist(brand_z_list, bins=mybins)"
   ]
  },
  {
   "cell_type": "code",
   "execution_count": 35,
   "metadata": {},
   "outputs": [
    {
     "data": {
      "text/plain": [
       "16273"
      ]
     },
     "execution_count": 35,
     "metadata": {},
     "output_type": "execute_result"
    }
   ],
   "source": [
    "len(brand_z_list[np.where((-0.001 < brand_z_list) & (brand_z_list < 0.5))])"
   ]
  },
  {
   "cell_type": "markdown",
   "metadata": {},
   "source": [
    "# 브랜드 EDA 정리\n",
    "- 결측값, 쓰레기값이 아닌 절반 정도의 브랜드 대상 (약 19만)\n",
    "- 1차 필터링 : dev, test 데이터에 등장하는 브랜드\n",
    "- 2차 필터링 : brand item cnt z-score -0.001 ~ 0.5 사이 -> 대부분의 일반 면적 커버\n",
    "- insight : brand의 item cnt가 매우 높은 경우는 대부분의 카테고리에 해당하기 때문에 변별력 부족, 반대의 경우 데이터 부족\n",
    "- 1~2차 필터링된 브랜드 외 -> 'another brand'로 정의"
   ]
  },
  {
   "cell_type": "markdown",
   "metadata": {},
   "source": [
    "-----\n",
    "-----\n",
    "-----\n",
    "-----\n",
    "-----\n",
    "-----\n",
    "-----\n",
    "-----\n",
    "-----\n",
    "-----\n",
    "-----\n"
   ]
  },
  {
   "cell_type": "code",
   "execution_count": null,
   "metadata": {},
   "outputs": [],
   "source": [
    "todo"
   ]
  },
  {
   "cell_type": "code",
   "execution_count": 39,
   "metadata": {},
   "outputs": [
    {
     "data": {
      "text/plain": [
       "['maker', 'price', 'updttm']"
      ]
     },
     "execution_count": 39,
     "metadata": {},
     "output_type": "execute_result"
    }
   ],
   "source": [
    "['maker', 'price', 'updttm']"
   ]
  },
  {
   "cell_type": "code",
   "execution_count": 48,
   "metadata": {},
   "outputs": [
    {
     "data": {
      "text/plain": [
       "0.27929893453055743"
      ]
     },
     "execution_count": 48,
     "metadata": {},
     "output_type": "execute_result"
    }
   ],
   "source": [
    "## 브랜드 정보는 없지만 제조사 정보만 있는 경우 : 약 30%\n",
    "len(df[(df.maker.notnull()) & (df.brand.isnull())][['maker']]) / df.shape[0]"
   ]
  },
  {
   "cell_type": "code",
   "execution_count": 55,
   "metadata": {},
   "outputs": [],
   "source": [
    "maker_list = df.maker.value_counts().index.tolist()\n",
    "\n",
    "exception_dict = [\"참조\", \"없음\", \"표기\", \"별도\", \"상세\", \"자체\", \"불명\", \"미입력\"]\n",
    "exception_list = []\n",
    "\n",
    "for maker in maker_list:\n",
    "    if any(word in maker for word in exception_dict):\n",
    "        exception_list.append(maker)"
   ]
  },
  {
   "cell_type": "code",
   "execution_count": 57,
   "metadata": {},
   "outputs": [],
   "source": [
    "df[(df.maker.notnull()) & (df.brand.isnull()) & ~df['maker'].isin(exception_list)]['maker'].value_counts()"
   ]
  },
  {
   "cell_type": "markdown",
   "metadata": {},
   "source": [
    "# 제조사 EDA 정리 (작업중)\n",
    "- 1차 필터링 : 결측값, 쓰레기값이 아닌 메이커 대상\n",
    "- 2차 필터링 : 브랜드 없이 제조사만 등장하는 데이터에 등장하는 제조사 :: -> 대부분은 브랜드가 상품력이 훨씬 높기 때문에, 브랜드를 포함하지 않은 데이터에서 상품력을 얼마나 발휘하는지의 여부를 측정. 브랜드와 동시 등장하는 제조사는 상품력이 매우 낮을 것으로 판단됨(가설)\n",
    "- 3차 필터링 : z-score (작업중)"
   ]
  },
  {
   "cell_type": "code",
   "execution_count": null,
   "metadata": {},
   "outputs": [],
   "source": []
  }
 ],
 "metadata": {
  "kernelspec": {
   "display_name": "Python 3",
   "language": "python",
   "name": "python3"
  },
  "language_info": {
   "codemirror_mode": {
    "name": "ipython",
    "version": 3
   },
   "file_extension": ".py",
   "mimetype": "text/x-python",
   "name": "python",
   "nbconvert_exporter": "python",
   "pygments_lexer": "ipython3",
   "version": "3.6.7"
  }
 },
 "nbformat": 4,
 "nbformat_minor": 2
}
